{
 "cells": [
  {
   "cell_type": "markdown",
   "id": "1a869682",
   "metadata": {},
   "source": [
    "# Final Project: Understanding Hired Rides in NYC - Group 12"
   ]
  },
  {
   "cell_type": "markdown",
   "id": "2f75fd94",
   "metadata": {},
   "source": [
    "## Project Setup"
   ]
  },
  {
   "cell_type": "code",
   "execution_count": 1,
   "id": "66dcde05",
   "metadata": {},
   "outputs": [],
   "source": [
    "# all import statements needed for the project\n",
    "import math\n",
    "from math import tan, pi\n",
    "import geopandas\n",
    "from geopandas import GeoSeries,GeoDataFrame\n",
    "\n",
    "import os\n",
    "import re\n",
    "import bs4\n",
    "from bs4 import BeautifulSoup as bs\n",
    "import requests\n",
    "import urllib3\n",
    "import pandas as pd\n",
    "import matplotlib.animation as animation\n",
    "import matplotlib.pyplot as plt\n",
    "from keplergl import KeplerGl\n",
    "import sqlalchemy as db\n",
    "import numpy as np\n",
    "import warnings"
   ]
  },
  {
   "cell_type": "code",
   "execution_count": 2,
   "id": "8b622a58",
   "metadata": {},
   "outputs": [],
   "source": [
    "# any general notebook setup, like log formatting\n",
    "warnings.filterwarnings(\"ignore\")"
   ]
  },
  {
   "cell_type": "code",
   "execution_count": 3,
   "id": "3f1242c4",
   "metadata": {},
   "outputs": [],
   "source": [
    "# any constants you might need, for example:\n",
    "\n",
    "TAXI_URL = \"https://www1.nyc.gov/site/tlc/about/tlc-trip-record-data.page\"\n",
    "\n",
    "UBER_CSV = \"uber_rides_sample.csv\"\n",
    "\n",
    "EARTH_RADIUS = 6378.137\n",
    "NEW_YORK_BOX_COORDS = ((40.560445, -74.242330), (40.908524, -73.717047))\n",
    "\n",
    "DATABASE_URL = \"sqlite:///project.db\"\n",
    "DATABASE_SCHEMA_FILE = \"schema.sql\"\n",
    "QUERY_DIRECTORY = \"queries\"\n",
    "#need to download mannually from drive folder\n",
    "WEATHER_CSV_FILES = [\"2009_weather.csv\", \"2010_weather.csv\", \"2011_weather.csv\", \"2012_weather.csv\",\n",
    "                    \"2013_weather.csv\", \"2014_weather.csv\", \"2015_weather.csv\"]"
   ]
  },
  {
   "cell_type": "markdown",
   "id": "26ad10ea",
   "metadata": {},
   "source": [
    "## Part 1: Data Preprocessing"
   ]
  },
  {
   "cell_type": "markdown",
   "id": "32074561",
   "metadata": {},
   "source": [
    "### Calculate Distance\n",
    "- 1. Define a function that calculates the distance between two coordinates in kilometers that only uses the math module from the standard library\n",
    "- 2. Use calculate_distance function to add distance column to each Uber and Yellow Taxi dataset"
   ]
  },
  {
   "cell_type": "code",
   "execution_count": 4,
   "id": "4cbbe6cc",
   "metadata": {},
   "outputs": [],
   "source": [
    "def rad(d):\n",
    "    return d * pi / 180.0\n",
    "\n",
    "def calculate_distance(from_coord, to_coord):\n",
    "    lat1 = from_coord[0]\n",
    "    lng1 = from_coord[1]\n",
    "    lat2 = to_coord[0]\n",
    "    lng2 = to_coord[1]\n",
    "    radLat1 = rad(lat1)\n",
    "    radLat2 = rad(lat2)\n",
    "    a = radLat1 - radLat2\n",
    "    b = rad(lng1) - rad(lng2)\n",
    "    s = 2 * math.asin(\n",
    "        math.sqrt(math.pow(math.sin(a / 2), 2) + math.cos(radLat1) * math.cos(radLat2) * math.pow(math.sin(b / 2), 2)))\n",
    "    s = s * EARTH_RADIUS\n",
    "    return s   "
   ]
  },
  {
   "cell_type": "code",
   "execution_count": 5,
   "id": "6d6abf52",
   "metadata": {},
   "outputs": [],
   "source": [
    "def add_distance_column(dataframe):\n",
    "    distance_list = []\n",
    "    for i in range(dataframe.shape[0]):\n",
    "        from_coord  = (dataframe[\"pickup_latitude\"][i], dataframe[\"pickup_longitude\"][i])\n",
    "        to_coord  = (dataframe[\"dropoff_latitude\"][i], dataframe[\"dropoff_longitude\"][i])\n",
    "        distance_list.append(calculate_distance(from_coord, to_coord))\n",
    "    dataframe[\"cal_distance\"] = distance_list"
   ]
  },
  {
   "cell_type": "markdown",
   "id": "515e6546",
   "metadata": {},
   "source": [
    "### Convert ID into Coordinates\n",
    "- 1. Get coordinates using the “center” of the zones (polygons) \n",
    "- 2. Convert ID into coordinates\n",
    "- 3. Only include trips that have valid location IDs \n",
    "- 4. Only include trips that start and/or end outside of the NEW_YORK_BOX_COORDS\n"
   ]
  },
  {
   "cell_type": "code",
   "execution_count": 6,
   "id": "8e8010d6",
   "metadata": {},
   "outputs": [],
   "source": [
    "def get_lat_lon_from_loc():\n",
    "    gdf = geopandas.read_file(\"taxi_zones.shp\")\n",
    "    gdf = gdf.to_crs(4326)\n",
    "    lon = gdf.centroid.x\n",
    "    lat = gdf.centroid.y\n",
    "    gdf[\"lon\"] = lon\n",
    "    gdf[\"lat\"] = lat\n",
    "    return gdf"
   ]
  },
  {
   "cell_type": "code",
   "execution_count": 7,
   "id": "1202c745",
   "metadata": {},
   "outputs": [],
   "source": [
    "def convert_id_into_lat_lon(all_sample_tables):\n",
    "    gdf = get_lat_lon_from_loc()\n",
    "    start_lon = []\n",
    "    start_lat = []\n",
    "    end_lon = []\n",
    "    end_lat = []\n",
    "    id_list = list(gdf[\"LocationID\"])\n",
    "    for i in range(all_sample_tables.shape[0]):\n",
    "        s_lat, s_lon, e_lat, e_lon = None, None, None, None\n",
    "        start_point = all_sample_tables[\"PULocationID\"][i]\n",
    "        end_point = all_sample_tables[\"DOLocationID\"][i]\n",
    "        if start_point in id_list and start_point < 264:\n",
    "            index_location = gdf[ gdf[\"LocationID\"]==start_point ].index.values[0]\n",
    "            s_lon = float( gdf[\"lon\"][index_location])\n",
    "            s_lat = float( gdf[\"lat\"][index_location])\n",
    "        if end_point in id_list and end_point < 264:\n",
    "            index_location = gdf[ gdf[\"LocationID\"]==end_point ].index.values[0]\n",
    "            e_lon = float( gdf[\"lon\"][index_location])\n",
    "            e_lat = float( gdf[\"lat\"][index_location])\n",
    "        if s_lat and s_lon and e_lat and e_lon:\n",
    "            outside = True\n",
    "            if s_lat > NEW_YORK_BOX_COORDS[0][0] and s_lat < NEW_YORK_BOX_COORDS[1][0]:\n",
    "                if e_lat > NEW_YORK_BOX_COORDS[0][0] and e_lat < NEW_YORK_BOX_COORDS[1][0]:\n",
    "                    if s_lon > NEW_YORK_BOX_COORDS[0][1] and s_lon < NEW_YORK_BOX_COORDS[1][1]:\n",
    "                        if e_lon > NEW_YORK_BOX_COORDS[0][1] and e_lon < NEW_YORK_BOX_COORDS[1][1]:\n",
    "                            outside = False\n",
    "            if outside:\n",
    "                s_lat, s_lon, e_lat, e_lon = None, None, None, None\n",
    "        \n",
    "        start_lon.append(s_lon)\n",
    "        start_lat.append(s_lat)\n",
    "        end_lon.append(e_lon)\n",
    "        end_lat.append(e_lat)\n",
    "            \n",
    "    all_sample_tables[\"pickup_longitude\"] = start_lon\n",
    "    all_sample_tables[\"pickup_latitude\"] = start_lat\n",
    "    all_sample_tables[\"dropoff_longitude\"] = end_lon\n",
    "    all_sample_tables[\"dropoff_latitude\"] = end_lat"
   ]
  },
  {
   "cell_type": "markdown",
   "id": "93daa717",
   "metadata": {},
   "source": [
    "### Processing Taxi Data\n",
    "\n",
    "- 1. Find the desired links of yellow taxi data\n",
    "- 2. Get and clean month taxi data (sample)\n",
    "- 3. Remove useless columns\n",
    "- 4. Process NAN value\n",
    "- 5. Convert ID into coordinate\n",
    "- 6. Convert date taxi data into YEAR, MONTH, DAY, HOUR and WEEK\n",
    "- 7. Get distance column of taxi data\n",
    "- 8. Generate taxi data (one gigantic dataframe)"
   ]
  },
  {
   "cell_type": "code",
   "execution_count": 8,
   "id": "f5474c49",
   "metadata": {},
   "outputs": [],
   "source": [
    "def process_datetime(all_sample_tables): # for part3 and part4 convenience; normalizing column names\n",
    "    if \"tpep_pickup_datetime\" in all_sample_tables.columns:\n",
    "        all_sample_tables['tpep_pickup_datetime'] = pd.to_datetime(all_sample_tables['tpep_pickup_datetime'])\n",
    "        all_sample_tables['tpep_dropoff_datetime'] = pd.to_datetime(all_sample_tables['tpep_dropoff_datetime'])\n",
    "        all_sample_tables['DATE'] = pd.to_datetime(all_sample_tables['tpep_pickup_datetime'])\n",
    "        all_sample_tables['YEAR'] = all_sample_tables['tpep_pickup_datetime'].dt.year.astype(int)\n",
    "        all_sample_tables['MONTH'] = all_sample_tables['tpep_pickup_datetime'].dt.month.astype(int)\n",
    "        all_sample_tables['DAY'] = all_sample_tables['tpep_pickup_datetime'].dt.day.astype(int)\n",
    "        all_sample_tables['HOUR'] = all_sample_tables['tpep_pickup_datetime'].dt.hour.astype(int)\n",
    "        all_sample_tables[\"WEEK\"] = all_sample_tables['tpep_pickup_datetime'].dt.dayofweek+1 # 0-6 to 1-7\n",
    "    else:\n",
    "        all_sample_tables['tpep_pickup_datetime'] = None\n",
    "        all_sample_tables['YEAR'] = None\n",
    "        all_sample_tables['MONTH'] = None\n",
    "        all_sample_tables['DAY'] = None\n",
    "        all_sample_tables['HOUR'] = None\n",
    "        all_sample_tables[\"WEEK\"] = None "
   ]
  },
  {
   "cell_type": "code",
   "execution_count": 9,
   "id": "cbd0d198",
   "metadata": {},
   "outputs": [],
   "source": [
    "def find_taxi_parquet_urls():\n",
    "    parquet_urls = []\n",
    "    res = requests.get(url=TAXI_URL)\n",
    "    soup = bs(res.text)\n",
    "    for i, link in enumerate(soup.findAll('a')): \n",
    "        new_url = link.get('href')\n",
    "        data_pattern = r'yellow_tripdata_201[012345]|2009'\n",
    "        if re.search(data_pattern, new_url):\n",
    "            if not re.search(r'2015\\-0[789]|2015\\-1[012]', new_url):\n",
    "                parquet_urls.append(new_url)     \n",
    "    return parquet_urls"
   ]
  },
  {
   "cell_type": "code",
   "execution_count": 10,
   "id": "2f40130a",
   "metadata": {},
   "outputs": [],
   "source": [
    "def get_and_clean_month_taxi_data(url):\n",
    "    response = requests.get(url, stream=True)\n",
    "\n",
    "    file_name = url.split(\"/\")[-1]\n",
    "    \n",
    "    # if exists, no need to download\n",
    "    if not os.path.exists(file_name):\n",
    "        with open(file_name, 'wb') as f: \n",
    "            for chunk in response.iter_content(chunk_size=1024):\n",
    "                f.write(chunk)\n",
    "\n",
    "    #Columns name that will be kept in different years' data\n",
    "    list_11_15 = [\"tpep_pickup_datetime\", \"tpep_dropoff_datetime\", \"passenger_count\", \"trip_distance\", \"pickup_longitude\"\n",
    "                      ,\"pickup_latitude\", \"dropoff_longitude\", \"dropoff_latitude\", \"tip_amount\"]\n",
    "    list_10 = [\"pickup_datetime\", \"dropoff_datetime\", \"passenger_count\", \"trip_distance\",\"pickup_longitude\", \"pickup_latitude\"\n",
    "                   , \"dropoff_longitude\", \"dropoff_latitude\", \"tip_amount\"]\n",
    "    list_09 = [\"Trip_Pickup_DateTime\", \"Trip_Dropoff_DateTime\", \"Passenger_Count\", \"Trip_Distance\",\"Start_Lon\", \"Start_Lat\"\n",
    "                   , \"End_Lon\", \"End_Lat\", \"Tip_Amt\"]\n",
    "    kept_list = []\n",
    "    \n",
    "    pd_data = pd.read_parquet(file_name)\n",
    "    #get a sample of 10000 as a way to increase process speed (efficiency)\n",
    "    pd_data = pd_data.sample(10000)\n",
    "    pd_data = pd_data.reset_index()\n",
    "\n",
    "    if not re.search(r\"2009|2010\", file_name):\n",
    "        convert_id_into_lat_lon(pd_data)\n",
    "        kept_list = list_11_15\n",
    "    elif re.search(r\"2010\", file_name):\n",
    "        kept_list = list_10\n",
    "    else:\n",
    "        kept_list = list_09\n",
    "        \n",
    "    #Keep certain columns and unified the names of the column for later use\n",
    "    pd_data = pd_data[kept_list]\n",
    "    unified_column_name = {kept_list[i]:list_11_15[i] for i in range(len(kept_list))}\n",
    "    pd_data.rename(columns=unified_column_name, inplace=True)\n",
    "    \n",
    "    #drop rows with invalid data\n",
    "    pd_data[list_11_15[:8]] = pd_data[list_11_15[:8]].replace(0.0, None)\n",
    "    pd_data.dropna(inplace=True)\n",
    "\n",
    "    # sample 2564 for each month since 200,000/78 = 2564\n",
    "    # make it roughly equal to the sample size of the uber dataset\n",
    "    pd_data = pd_data.sample(2564)\n",
    "    pd_data = pd_data.reset_index()           \n",
    "    \n",
    "    process_datetime(pd_data)\n",
    "\n",
    "    add_distance_column(pd_data)\n",
    "    pd_data.drop([\"index\"], axis=1,inplace=True)\n",
    "    return pd_data"
   ]
  },
  {
   "cell_type": "code",
   "execution_count": 11,
   "id": "35c9c0cd",
   "metadata": {},
   "outputs": [],
   "source": [
    "def get_and_clean_taxi_data():\n",
    "    all_taxi_dataframes = []\n",
    "    \n",
    "    all_parquet_urls = find_taxi_parquet_urls()\n",
    "    for parquet_url in all_parquet_urls:\n",
    "\n",
    "        dataframe = get_and_clean_month_taxi_data(parquet_url)\n",
    "        \n",
    "        all_taxi_dataframes.append(dataframe)\n",
    "\n",
    "    # create one gigantic dataframe with data from every month needed\n",
    "    taxi_data = pd.concat(all_taxi_dataframes)\n",
    "    return taxi_data"
   ]
  },
  {
   "cell_type": "markdown",
   "id": "094b4d6d",
   "metadata": {},
   "source": [
    "### Processing Uber Data\n",
    "\n",
    "- 1. Load and clean uber data\n",
    "- 2. Convert date uber data into YEAR, MONTH, DAY, HOUR and WEEK\n",
    "- 3. Get distance column of uber data\n",
    "- 4. Remove useless columns\n",
    "- 5. Process NAN value\n",
    "- 6. Genereate uber data"
   ]
  },
  {
   "cell_type": "code",
   "execution_count": 12,
   "id": "7c58e3a2",
   "metadata": {},
   "outputs": [],
   "source": [
    "def load_and_clean_uber_data(csv_file):\n",
    "    pd_data = pd.read_csv(csv_file, index_col=0)\n",
    "    pd_data['pickup_datetime'] = pd.to_datetime(pd_data['pickup_datetime'])\n",
    "    pd_data['YEAR'] = pd_data['pickup_datetime'].dt.year.astype(int)\n",
    "    pd_data['MONTH'] = pd_data['pickup_datetime'].dt.month.astype(int)\n",
    "    pd_data['DAY'] = pd_data['pickup_datetime'].dt.day.astype(int)\n",
    "    pd_data['HOUR'] = pd_data['pickup_datetime'].dt.hour.astype(int)\n",
    "    pd_data[\"WEEK\"] = pd_data['pickup_datetime'].dt.dayofweek+1    \n",
    "    return pd_data.reset_index()"
   ]
  },
  {
   "cell_type": "code",
   "execution_count": 13,
   "id": "f836f118",
   "metadata": {},
   "outputs": [],
   "source": [
    "def get_uber_data():\n",
    "    uber_dataframe = load_and_clean_uber_data(UBER_CSV)\n",
    "    \n",
    "    #Construct a list to check validity in certain columns, exclude the passenger_count\n",
    "    #because there might be uber_rides only for quick item delivery\n",
    "    list_valid = [\"fare_amount\", \"pickup_datetime\",\"pickup_longitude\", \"pickup_latitude\",\n",
    "                  \"dropoff_longitude\", \"dropoff_latitude\"]\n",
    "    uber_dataframe[list_valid] = uber_dataframe[list_valid].replace(0.0, None)\n",
    "    uber_dataframe.dropna(subset=list_valid, inplace=True)\n",
    "    uber_dataframe.reset_index(inplace=True)\n",
    "    uber_dataframe.drop([\"level_0\"], axis=1, inplace=True)\n",
    "\n",
    "    add_distance_column(uber_dataframe)\n",
    "    list_valid.append(\"cal_distance\")\n",
    "    uber_dataframe = uber_dataframe.reset_index()\n",
    "    # remove useless columns \n",
    "    uber_dataframe = uber_dataframe.drop([\"index\", \"key\", \"fare_amount\", \"level_0\"], axis=1)\n",
    "    list_valid.remove(\"fare_amount\")\n",
    "    uber_dataframe = uber_dataframe.dropna(subset=list_valid)\n",
    "    return uber_dataframe"
   ]
  },
  {
   "cell_type": "markdown",
   "id": "45a15cbb",
   "metadata": {},
   "source": [
    "### Processing Weather Data\n",
    "\n",
    "- 1. Load and clean hourly and daily weather data\n",
    "- 2. Convert date weather data into YEAR, MONTH, DAY, HOUR and WEEK\n",
    "- 3. Remove useless columns\n",
    "- 4. Process NAN value\n",
    "- 5. Generate hourly and daily weather data"
   ]
  },
  {
   "cell_type": "code",
   "execution_count": 14,
   "id": "76e864ab",
   "metadata": {},
   "outputs": [],
   "source": [
    "def clean_month_weather_data_hourly(csv_file):\n",
    "    #list of column names needed\n",
    "    kept_list = [\"DATE\",\"HourlyPrecipitation\", \"HourlyWindSpeed\"]\n",
    "\n",
    "    pd_data = pd.read_csv(csv_file, usecols=kept_list)\n",
    "    \n",
    "    #Hourly precipitation are none if no rain, change to 0.0 for calculation\n",
    "    pd_data[[\"HourlyPrecipitation\"]] = pd_data[[\"HourlyPrecipitation\"]].fillna(0)\n",
    "    \n",
    "    pd_data['DATE'] = pd.to_datetime(pd_data['DATE'])\n",
    "    pd_data['YEAR'] = pd_data['DATE'].dt.year.astype(int)\n",
    "    pd_data['MONTH'] = pd_data['DATE'].dt.month.astype(int)\n",
    "    pd_data['DAY'] = pd_data['DATE'].dt.day.astype(int)\n",
    "    pd_data['HOUR'] = pd_data['DATE'].dt.hour.astype(int)    \n",
    "    pd_data[\"WEEK\"] = pd_data['DATE'].dt.dayofweek+1  \n",
    "    hour_weather = []\n",
    "    hour_weather_column = list(pd_data.columns)\n",
    "    \n",
    "    date_str = \"\"\n",
    "    for i in range(pd_data.shape[0]):\n",
    "        tmp_date_str = str(pd_data.iloc[i,:][\"YEAR\"]) + str(pd_data.iloc[i,:][\"MONTH\"]) + str(pd_data.iloc[i,:][\"DAY\"]) +  str(pd_data.iloc[i,:][\"HOUR\"])\n",
    "        if tmp_date_str == date_str:\n",
    "            continue\n",
    "        else:\n",
    "            hour_weather.append(pd_data.iloc[i,:].to_list())\n",
    "            date_str = tmp_date_str   \n",
    "    \n",
    "    final_pd = pd.DataFrame(hour_weather, columns=hour_weather_column)\n",
    "    \n",
    "    final_pd.dropna(inplace=True)\n",
    "    \n",
    "    return final_pd "
   ]
  },
  {
   "cell_type": "code",
   "execution_count": 15,
   "id": "0687581f",
   "metadata": {},
   "outputs": [],
   "source": [
    "def clean_month_weather_data_daily(csv_file):\n",
    "    kept_list = [\"DATE\",\"DailyPrecipitation\", \"DailyAverageWindSpeed\", \"REPORT_TYPE\"]\n",
    "    \n",
    "    pd_data = pd.read_csv(csv_file, usecols=kept_list)\n",
    "    pd_data.dropna(subset=[\"DailyAverageWindSpeed\"], inplace=True)\n",
    "    pd_data[[\"DailyPrecipitation\"]] = pd_data[[\"DailyPrecipitation\"]].fillna(0)\n",
    "    \n",
    "    pd_data['DATE'] = pd.to_datetime(pd_data['DATE'])\n",
    "    pd_data['YEAR'] = pd_data['DATE'].dt.year.astype(int)\n",
    "    pd_data['MONTH'] = pd_data['DATE'].dt.month.astype(int)\n",
    "    pd_data['DAY'] = pd_data['DATE'].dt.day.astype(int)\n",
    "    pd_data[\"WEEK\"] = pd_data['DATE'].dt.dayofweek+1  \n",
    "    date_str = \"\"\n",
    "    day_weather = []\n",
    "    day_weather_column = list(pd_data.columns)\n",
    "    for i in range(pd_data.shape[0]):\n",
    "        tmp_date_str = str(pd_data.iloc[i,:][\"YEAR\"]) + str(pd_data.iloc[i,:][\"MONTH\"]) + str(pd_data.iloc[i,:][\"DAY\"])\n",
    "        if tmp_date_str == date_str:\n",
    "            continue\n",
    "        else:\n",
    "            day_weather.append(pd_data.iloc[i,:].to_list())\n",
    "            date_str = tmp_date_str \n",
    "            \n",
    "    final_pd = pd.DataFrame(day_weather, columns=day_weather_column)\n",
    "    \n",
    "    return final_pd  "
   ]
  },
  {
   "cell_type": "code",
   "execution_count": 16,
   "id": "3ef8945d",
   "metadata": {},
   "outputs": [],
   "source": [
    "def load_and_clean_weather_data():\n",
    "    hourly_dataframes = []\n",
    "    daily_dataframes = []\n",
    "    \n",
    "    for csv_file in WEATHER_CSV_FILES:\n",
    "        hourly_dataframe = clean_month_weather_data_hourly(csv_file)\n",
    "        daily_dataframe = clean_month_weather_data_daily(csv_file)\n",
    "        hourly_dataframes.append(hourly_dataframe)\n",
    "        daily_dataframes.append(daily_dataframe)\n",
    "        \n",
    "    # create two dataframes with hourly & daily data from every month\n",
    "    hourly_data = pd.concat(hourly_dataframes)\n",
    "    hourly_data = hourly_data.reset_index()\n",
    "    hourly_data.drop(\"index\", axis=1, inplace=True)\n",
    "    daily_data = pd.concat(daily_dataframes)\n",
    "    daily_data = daily_data.reset_index()\n",
    "    daily_data.drop(\"index\", axis=1, inplace=True)\n",
    "    return hourly_data, daily_data"
   ]
  },
  {
   "cell_type": "markdown",
   "id": "f900f7aa",
   "metadata": {},
   "source": [
    "### Processing All Data\n",
    "\n",
    "- 1. Process taxi data, uber data, and weather data\n",
    "- 2. Post-Process all data"
   ]
  },
  {
   "cell_type": "code",
   "execution_count": 17,
   "id": "909312e3",
   "metadata": {
    "scrolled": true
   },
   "outputs": [],
   "source": [
    "taxi_data = get_and_clean_taxi_data()"
   ]
  },
  {
   "cell_type": "code",
   "execution_count": 18,
   "id": "f7cd53a6",
   "metadata": {},
   "outputs": [],
   "source": [
    "uber_data = get_uber_data()\n",
    "hourly_weather_data, daily_weather_data = load_and_clean_weather_data()"
   ]
  },
  {
   "cell_type": "markdown",
   "id": "dd101f11",
   "metadata": {},
   "source": [
    "## Part 2: Storing Cleaned Data\n",
    "\n",
    "- 1. Create a database\n",
    "- 2. Write schema sql of taxi data, uber data, hourly weather data and daily weather data\n",
    "- 3. Create and populate four tables"
   ]
  },
  {
   "cell_type": "code",
   "execution_count": 19,
   "id": "f3529cf6",
   "metadata": {},
   "outputs": [],
   "source": [
    "engine = db.create_engine(DATABASE_URL)"
   ]
  },
  {
   "cell_type": "code",
   "execution_count": 20,
   "id": "d2bea0ff",
   "metadata": {},
   "outputs": [],
   "source": [
    "TAXI_TRIPS_SCHEMA = \"\"\"\n",
    "CREATE TABLE IF NOT EXISTS taxi_trips\n",
    "(\n",
    "    id INTEGER PRIMARY KEY,\n",
    "    DATE TIMESTAMP,\n",
    "    tpep_pickup_datetime TIMESTAMP,\n",
    "    tpep_dropoff_datetime TIMESTAMP,\n",
    "    trip_distance FLOAT,\n",
    "    tip_amount FLOAT,\n",
    "    passenger_count INTEGER,\n",
    "    pickup_longitude FLOAT,\n",
    "    pickup_latitude FLOAT,\n",
    "    dropoff_longitude FLOAT,\n",
    "    dropoff_latitude FLOAT,\n",
    "    cal_distance FLOAT,\n",
    "    YEAR INTEGER, \n",
    "    MONTH INTEGER, \n",
    "    DAY INTEGER, \n",
    "    HOUR INTEGER,\n",
    "    WEEK INTEGER\n",
    ");\n",
    "\"\"\"\n",
    "\n",
    "UBER_TRIPS_SCHEMA = \"\"\"\n",
    "CREATE TABLE IF NOT EXISTS uber_trips\n",
    "(\n",
    "    id INTEGER PRIMARY KEY,\n",
    "    pickup_datetime TIMESTAMP,\n",
    "    pickup_longitude FLOAT,\n",
    "    pickup_latitude  FLOAT,\n",
    "    dropoff_longitude FLOAT, \n",
    "    dropoff_latitude FLOAT,\n",
    "    passenger_count INTEGER,\n",
    "    YEAR  INTEGER,\n",
    "    MONTH  INTEGER, \n",
    "    DAY  INTEGER,\n",
    "    HOUR  INTEGER,\n",
    "    WEEK  INTEGER,\n",
    "    cal_distance FLOAT\n",
    ");\n",
    "\"\"\"\n",
    "\n",
    "HOURLY_WEATHER_SCHEMA = \"\"\"\n",
    "CREATE TABLE IF NOT EXISTS hourly_weather\n",
    "(\n",
    "    id INTEGER PRIMARY KEY,\n",
    "    DATE TIMESTAMP,\n",
    "    YEAR INTEGER,\n",
    "    MONTH INTEGER,\n",
    "    DAY INTEGER,\n",
    "    WEEK INTEGER,\n",
    "    HOUR INTEGER,\n",
    "    HourlyPrecipitation FLOAT,\n",
    "    HourlyWindSpeed FLOAT\n",
    ");\n",
    "\"\"\"\n",
    "\n",
    "DAILY_WEATHER_SCHEMA = \"\"\"\n",
    "CREATE TABLE IF NOT EXISTS daily_weather\n",
    "(\n",
    "    id INTEGER PRIMARY KEY,\n",
    "    DATE TIMESTAMP, \n",
    "    DailyPrecipitation FLOAT,\n",
    "    DailyAverageWindSpeed FLOAT,\n",
    "    YEAR INTEGER,\n",
    "    MONTH INTEGER,\n",
    "    DAY INTEGER,\n",
    "    WEEK INTEGER  \n",
    ");\n",
    "\"\"\""
   ]
  },
  {
   "cell_type": "code",
   "execution_count": 21,
   "id": "5f41e54b",
   "metadata": {},
   "outputs": [],
   "source": [
    "# create that required schema.sql file\n",
    "with open(DATABASE_SCHEMA_FILE, \"w\") as f:\n",
    "    f.write(TAXI_TRIPS_SCHEMA)\n",
    "    f.write(UBER_TRIPS_SCHEMA)\n",
    "    f.write(HOURLY_WEATHER_SCHEMA)\n",
    "    f.write(DAILY_WEATHER_SCHEMA)"
   ]
  },
  {
   "cell_type": "code",
   "execution_count": 22,
   "id": "02eccdba",
   "metadata": {},
   "outputs": [],
   "source": [
    "# create the tables with the schema files\n",
    "with engine.connect() as connection:\n",
    "#     pass\n",
    "    connection.execute(TAXI_TRIPS_SCHEMA)\n",
    "with engine.connect() as connection:\n",
    "#     pass\n",
    "    connection.execute(UBER_TRIPS_SCHEMA)  \n",
    "with engine.connect() as connection:\n",
    "#     pass\n",
    "    connection.execute(HOURLY_WEATHER_SCHEMA)\n",
    "with engine.connect() as connection:\n",
    "#     pass\n",
    "    connection.execute(DAILY_WEATHER_SCHEMA)  "
   ]
  },
  {
   "cell_type": "markdown",
   "id": "c122964f",
   "metadata": {},
   "source": [
    "### Add Data to Database\n",
    "\n",
    "- 1. Write dataframe data into the database"
   ]
  },
  {
   "cell_type": "code",
   "execution_count": 23,
   "id": "0e68a363",
   "metadata": {},
   "outputs": [],
   "source": [
    "def write_dataframes_to_table(table_to_df_dict):\n",
    "    for table_name in table_to_df_dict:\n",
    "        table_to_df_dict[ table_name ].to_sql(table_name, engine, if_exists='replace')"
   ]
  },
  {
   "cell_type": "code",
   "execution_count": 24,
   "id": "45d6c06c",
   "metadata": {},
   "outputs": [],
   "source": [
    "map_table_name_to_dataframe = {\n",
    "    \"taxi_trips\": taxi_data,\n",
    "    \"uber_trips\": uber_data,\n",
    "    \"hourly_weather\": hourly_weather_data,\n",
    "    \"daily_weather\": daily_weather_data,\n",
    "}"
   ]
  },
  {
   "cell_type": "code",
   "execution_count": 25,
   "id": "74004f96",
   "metadata": {},
   "outputs": [],
   "source": [
    "write_dataframes_to_table(map_table_name_to_dataframe)"
   ]
  },
  {
   "cell_type": "markdown",
   "id": "8cb6e33e",
   "metadata": {},
   "source": [
    "## Part 3: Understanding the Data\n",
    "\n",
    "- 1. Write sql query to complete each query question\n",
    "- 2. Execute each sql query\n",
    "- 3. Save each sql query into local file"
   ]
  },
  {
   "cell_type": "code",
   "execution_count": 26,
   "id": "6a849e92",
   "metadata": {},
   "outputs": [],
   "source": [
    "def write_query_to_file(query, outfile):\n",
    "    with open(outfile, \"w\") as fw:\n",
    "        fw.write(query)"
   ]
  },
  {
   "cell_type": "markdown",
   "id": "ee70a777",
   "metadata": {},
   "source": [
    "### Query 1\n",
    "- For 01-2009 through 06-2015, what hour of the day was the most popular to take a Yellow Taxi? The result should have 24 bins."
   ]
  },
  {
   "cell_type": "code",
   "execution_count": 27,
   "id": "db871d3c",
   "metadata": {},
   "outputs": [],
   "source": [
    "QUERY_1 = \"\"\"\n",
    "SELECT HOUR, COUNT(*) as count \n",
    "FROM taxi_trips\n",
    "WHERE tpep_pickup_datetime between '2009-01-01' and '2015-06-30'\n",
    "GROUP BY HOUR \n",
    "ORDER BY count DESC \n",
    "\"\"\""
   ]
  },
  {
   "cell_type": "code",
   "execution_count": 28,
   "id": "c5275f3a",
   "metadata": {},
   "outputs": [
    {
     "data": {
      "text/plain": [
       "[(19, 12564),\n",
       " (18, 12006),\n",
       " (20, 11810),\n",
       " (21, 11502),\n",
       " (22, 11075),\n",
       " (14, 10094),\n",
       " (12, 10009),\n",
       " (23, 9944),\n",
       " (17, 9832),\n",
       " (13, 9620),\n",
       " (15, 9522),\n",
       " (9, 9343),\n",
       " (11, 9236),\n",
       " (10, 9087),\n",
       " (8, 8963),\n",
       " (16, 8332),\n",
       " (0, 7828),\n",
       " (7, 7138),\n",
       " (1, 5917),\n",
       " (2, 4403),\n",
       " (6, 4173),\n",
       " (3, 3286),\n",
       " (4, 2262),\n",
       " (5, 1958)]"
      ]
     },
     "execution_count": 28,
     "metadata": {},
     "output_type": "execute_result"
    }
   ],
   "source": [
    "engine.execute(QUERY_1).fetchall()"
   ]
  },
  {
   "cell_type": "code",
   "execution_count": 29,
   "id": "fcfd95bf",
   "metadata": {},
   "outputs": [],
   "source": [
    "write_query_to_file(QUERY_1, \"most_popular_hour_taxi.sql\")"
   ]
  },
  {
   "cell_type": "markdown",
   "id": "167d3018",
   "metadata": {},
   "source": [
    "- Answer 1: 19 hour (7:00pm)"
   ]
  },
  {
   "cell_type": "markdown",
   "id": "f1a92132",
   "metadata": {},
   "source": [
    "### Query 2\n",
    "- For the same time frame, what day of the week was the most popular to take an Uber? The result should have 7 bins."
   ]
  },
  {
   "cell_type": "code",
   "execution_count": 30,
   "id": "697a471b",
   "metadata": {},
   "outputs": [],
   "source": [
    "QUERY_2 = \"\"\"\n",
    "SELECT WEEK, COUNT(*) as count \n",
    "FROM uber_trips\n",
    "WHERE pickup_datetime between '2009-01-01' and '2015-06-30'\n",
    "GROUP BY WEEK \n",
    "ORDER BY count DESC \n",
    "\"\"\""
   ]
  },
  {
   "cell_type": "code",
   "execution_count": 31,
   "id": "b8513fe6",
   "metadata": {},
   "outputs": [
    {
     "data": {
      "text/plain": [
       "[(5, 30275),\n",
       " (6, 29673),\n",
       " (4, 29429),\n",
       " (3, 28413),\n",
       " (2, 27527),\n",
       " (7, 25908),\n",
       " (1, 24738)]"
      ]
     },
     "execution_count": 31,
     "metadata": {},
     "output_type": "execute_result"
    }
   ],
   "source": [
    "engine.execute(QUERY_2).fetchall()"
   ]
  },
  {
   "cell_type": "code",
   "execution_count": 32,
   "id": "54cb163d",
   "metadata": {},
   "outputs": [],
   "source": [
    "write_query_to_file(QUERY_2, \"most_popular_day_uber.sql\")"
   ]
  },
  {
   "cell_type": "markdown",
   "id": "40d51577",
   "metadata": {},
   "source": [
    "- Answer 2: Friday"
   ]
  },
  {
   "cell_type": "markdown",
   "id": "44b83b75",
   "metadata": {},
   "source": [
    "### Query 3\n",
    "- What is the 95% percentile of distance traveled for all hired trips during July 2013?"
   ]
  },
  {
   "cell_type": "markdown",
   "id": "4fd299fe",
   "metadata": {},
   "source": [
    "- Query Steps:\n",
    "- 1. Union taxi_trips and uber trips of 2013.7\n",
    "- 2. Slect all cal_distance values and sort it\n",
    "- 3. Select top 95% and return min values"
   ]
  },
  {
   "cell_type": "code",
   "execution_count": 33,
   "id": "ee15f21e",
   "metadata": {},
   "outputs": [],
   "source": [
    "QUERY_3 = \"\"\"\n",
    "WITH hired_trip_2013_7 AS (\n",
    "    SELECT cal_distance FROM taxi_trips\n",
    "    WHERE tpep_pickup_datetime between '2013-07-01' AND '2013-07-31'\n",
    "    UNION ALL\n",
    "    SELECT cal_distance FROM uber_trips \n",
    "    WHERE pickup_datetime between '2013-07-01' AND '2013-07-31'\n",
    ")\n",
    "SELECT cal_distance\n",
    "FROM hired_trip_2013_7\n",
    "ORDER BY cal_distance ASC\n",
    "LIMIT 1\n",
    "OFFSET (SELECT COUNT(*) FROM hired_trip_2013_7) * 95/100 - 1;\n",
    "\"\"\""
   ]
  },
  {
   "cell_type": "code",
   "execution_count": 34,
   "id": "40908ad5",
   "metadata": {},
   "outputs": [
    {
     "data": {
      "text/plain": [
       "[(9.948763690949356,)]"
      ]
     },
     "execution_count": 34,
     "metadata": {},
     "output_type": "execute_result"
    }
   ],
   "source": [
    "engine.execute(QUERY_3).fetchall()"
   ]
  },
  {
   "cell_type": "code",
   "execution_count": 35,
   "id": "cb1b4314",
   "metadata": {},
   "outputs": [],
   "source": [
    "write_query_to_file(QUERY_3, \"95_percents_distance_traveled_all.sql\")"
   ]
  },
  {
   "cell_type": "markdown",
   "id": "46549aea",
   "metadata": {},
   "source": [
    "### Query 4\n",
    "- What were the top 10 days with the highest number of hired rides for 2009, and what was the average distance for each day?"
   ]
  },
  {
   "cell_type": "code",
   "execution_count": 36,
   "id": "3256d4ac",
   "metadata": {},
   "outputs": [],
   "source": [
    "QUERY_4 = \"\"\"\n",
    "\n",
    "SELECT date, COUNT(*) as number_of_trips, AVG(trip_distance) as average_distance \n",
    "FROM\n",
    "(\n",
    "    SELECT date(tpep_pickup_datetime) AS date, trip_distance\n",
    "    FROM taxi_trips\n",
    "    UNION ALL\n",
    "    SELECT date(pickup_datetime) AS date, cal_distance as trip_distance\n",
    "    FROM uber_trips\n",
    ")\n",
    "WHERE date between '2009-01-01' AND '2009-12-31'\n",
    "GROUP BY date\n",
    "ORDER BY number_of_trips DESC\n",
    "LIMIT 10\n",
    "\n",
    "\"\"\""
   ]
  },
  {
   "cell_type": "code",
   "execution_count": 37,
   "id": "e5b7b990",
   "metadata": {},
   "outputs": [
    {
     "data": {
      "text/plain": [
       "[('2009-12-11', 240, 2.61525694620236),\n",
       " ('2009-10-23', 236, 2.6075482166213555),\n",
       " ('2009-01-31', 220, 2.6389945522813916),\n",
       " ('2009-12-05', 219, 2.5141446076959593),\n",
       " ('2009-12-04', 217, 2.6818864938059632),\n",
       " ('2009-08-14', 214, 3.026862405187548),\n",
       " ('2009-04-18', 214, 2.9580291696635155),\n",
       " ('2009-02-20', 214, 3.2250104759747957),\n",
       " ('2009-05-16', 212, 2.5607486918487403),\n",
       " ('2009-07-09', 211, 3.300757158182564)]"
      ]
     },
     "execution_count": 37,
     "metadata": {},
     "output_type": "execute_result"
    }
   ],
   "source": [
    "engine.execute(QUERY_4).fetchall()"
   ]
  },
  {
   "cell_type": "code",
   "execution_count": 38,
   "id": "994f288c",
   "metadata": {},
   "outputs": [],
   "source": [
    "write_query_to_file(QUERY_4, \"top_10_rides_days.sql\")"
   ]
  },
  {
   "cell_type": "markdown",
   "id": "086ae289",
   "metadata": {},
   "source": [
    "### Query 5\n",
    "- Which 10 days in 2014 were the windiest on average, and how many hired trips were made on those days?"
   ]
  },
  {
   "cell_type": "markdown",
   "id": "eb63e3a7",
   "metadata": {},
   "source": [
    "- Query steps:\n",
    "- 1. Fix YEAR=2014\n",
    "- 2. SLECT TOP 10 DAY FROM daily_weather, then ORDER BY HourlyWindSpeed DESC\n",
    "- 3. SELECT COUNT(*) FROM taxi_trips and uber_trips"
   ]
  },
  {
   "cell_type": "code",
   "execution_count": 39,
   "id": "7137c425",
   "metadata": {},
   "outputs": [],
   "source": [
    "QUERY_5 = \"\"\"\n",
    "WITH \n",
    "weather_2014 AS \n",
    "(\n",
    "    SELECT date(DATE) as date\n",
    "    FROM daily_weather\n",
    "    WHERE date between '2014-01-01' AND '2014-12-31'\n",
    "    ORDER BY DailyAverageWindSpeed DESC\n",
    "    LIMIT 10\n",
    "),\n",
    "trip AS\n",
    "(\n",
    "    SELECT date, COUNT(*) as number_of_trip\n",
    "    FROM\n",
    "    (\n",
    "        SELECT date(tpep_pickup_datetime) AS date\n",
    "        FROM taxi_trips\n",
    "        WHERE tpep_pickup_datetime between '2014-01-01' AND '2014-12-31'\n",
    "        UNION ALL\n",
    "        SELECT date(pickup_datetime) AS date\n",
    "        FROM uber_trips\n",
    "        WHERE pickup_datetime between '2014-01-01' AND '2014-12-31'\n",
    "    )\n",
    "    GROUP BY date\n",
    ")\n",
    "\n",
    "SELECT weather_2014.date, trip.number_of_trip\n",
    "FROM weather_2014\n",
    "LEFT JOIN trip\n",
    "ON weather_2014.date = trip.date\n",
    "\"\"\""
   ]
  },
  {
   "cell_type": "code",
   "execution_count": 40,
   "id": "6c927c47",
   "metadata": {},
   "outputs": [
    {
     "data": {
      "text/plain": [
       "[('2014-03-13', 180),\n",
       " ('2014-01-07', 180),\n",
       " ('2014-02-13', 121),\n",
       " ('2014-01-02', 134),\n",
       " ('2014-03-26', 174),\n",
       " ('2014-12-07', 163),\n",
       " ('2014-12-08', 163),\n",
       " ('2014-03-29', 208),\n",
       " ('2014-11-02', 168),\n",
       " ('2014-01-03', 94)]"
      ]
     },
     "execution_count": 40,
     "metadata": {},
     "output_type": "execute_result"
    }
   ],
   "source": [
    "engine.execute(QUERY_5).fetchall()"
   ]
  },
  {
   "cell_type": "code",
   "execution_count": 41,
   "id": "e2c64aeb",
   "metadata": {},
   "outputs": [],
   "source": [
    "write_query_to_file(QUERY_5, \"top_10_windiest_days.sql\")"
   ]
  },
  {
   "cell_type": "markdown",
   "id": "31ebfca2",
   "metadata": {},
   "source": [
    "### Query 6\n",
    "- During Hurricane Sandy in NYC (Oct 29-30, 2012), plus the week leading up and the week after, how many trips were taken each hour, and for each hour, how much precipitation did NYC receive and what was the sustained wind speed? There should be an entry for every single hour, even if no rides were taken, no precipitation was measured, or there was no wind."
   ]
  },
  {
   "cell_type": "markdown",
   "id": "5670c07d",
   "metadata": {},
   "source": [
    "- Query steps:\n",
    "- 1. Fix YEAR=2012, MONTH=10, DAY=29 or DAT=30 plus the week leading up to and the week after\n",
    "- 2. Count(*) GROUP BY HOUR\n",
    "- 3. UNION hourly_weather BY YEAR, MONTH, DAY\n",
    "- 4. Return hourly_weather.HourlyPrecipitation, hourly_weather.HourlyWindSpeed"
   ]
  },
  {
   "cell_type": "code",
   "execution_count": 42,
   "id": "7dedea4a",
   "metadata": {},
   "outputs": [],
   "source": [
    "QUERY_6 = \"\"\"\n",
    "WITH weather AS\n",
    "(\n",
    "SELECT DATE(DATE) as day, HOUR AS time, \n",
    "      sum(HourlyPrecipitation) as Precipitation, avg(HourlyWindSpeed) as Wind_Speed\n",
    "FROM hourly_weather\n",
    "WHERE DATE between '2012-10-22' AND '2012-11-06'\n",
    "GROUP BY day, time\n",
    "),\n",
    "trip AS\n",
    "(\n",
    "SELECT DATE(date) as date, HOUR as time, COUNT(*) as no_of_trips\n",
    "FROM\n",
    "(\n",
    "SELECT DATE(tpep_pickup_datetime) as date, HOUR\n",
    "FROM taxi_trips\n",
    "WHERE date between '2012-10-22' AND '2012-11-06'\n",
    "UNION ALL\n",
    "SELECT DATE(pickup_datetime) as date, HOUR\n",
    "FROM uber_trips\n",
    "WHERE date between '2012-10-22' AND '2012-11-06'\n",
    ")\n",
    "GROUP BY date, HOUR\n",
    ")\n",
    "\n",
    "SELECT weather.day, weather.time, trip.no_of_trips, weather.Precipitation, weather.Wind_Speed\n",
    "FROM weather\n",
    "LEFT JOIN trip ON weather.time = trip.time AND weather.day = trip.date\n",
    "ORDER BY weather.day\n",
    "\"\"\""
   ]
  },
  {
   "cell_type": "code",
   "execution_count": 43,
   "id": "c91f1e06",
   "metadata": {},
   "outputs": [
    {
     "data": {
      "text/plain": [
       "[('2012-10-22', 0, 4, 0.0, 7.0),\n",
       " ('2012-10-22', 1, 1, 0.0, 5.0),\n",
       " ('2012-10-22', 2, 2, 0.0, 7.0),\n",
       " ('2012-10-22', 3, 1, 0.0, 0.0),\n",
       " ('2012-10-22', 4, None, 0.0, 0.0),\n",
       " ('2012-10-22', 5, 3, 0.0, 0.0),\n",
       " ('2012-10-22', 6, 7, 0.0, 5.0),\n",
       " ('2012-10-22', 7, 11, 0.0, 3.0),\n",
       " ('2012-10-22', 8, 6, 0.0, 3.0),\n",
       " ('2012-10-22', 9, 8, 0.0, 5.0),\n",
       " ('2012-10-22', 12, 7, 0.0, 11.0),\n",
       " ('2012-10-22', 14, 2, 0.0, 7.0),\n",
       " ('2012-10-22', 15, 6, 0.0, 6.0),\n",
       " ('2012-10-22', 16, 8, 0.0, 3.0),\n",
       " ('2012-10-22', 17, 7, 0.0, 7.0),\n",
       " ('2012-10-22', 18, 10, 0.0, 5.0),\n",
       " ('2012-10-22', 19, 7, 0.0, 5.0),\n",
       " ('2012-10-22', 20, 9, 0.0, 3.0),\n",
       " ('2012-10-22', 21, 5, 0.0, 0.0),\n",
       " ('2012-10-22', 22, 10, 0.0, 3.0),\n",
       " ('2012-10-22', 23, 5, 0.0, 3.0),\n",
       " ('2012-10-23', 0, 3, 0, 3.0),\n",
       " ('2012-10-23', 1, 2, 0, 0.0),\n",
       " ('2012-10-23', 2, 1, 0, 3.0),\n",
       " ('2012-10-23', 3, None, 0, 0.0),\n",
       " ('2012-10-23', 4, None, 0, 3.0),\n",
       " ('2012-10-23', 5, 5, 0, 0.0),\n",
       " ('2012-10-23', 6, 2, 0, 0.0),\n",
       " ('2012-10-23', 7, 12, 0, 0.0),\n",
       " ('2012-10-23', 8, 15, 0, 0.0),\n",
       " ('2012-10-23', 9, 13, 0, 3.0),\n",
       " ('2012-10-23', 10, 11, 0, 0.0),\n",
       " ('2012-10-23', 11, 8, 0, 3.0),\n",
       " ('2012-10-23', 12, 6, 0.0, 0.0),\n",
       " ('2012-10-23', 16, 5, 0, 3.0),\n",
       " ('2012-10-23', 18, 16, 0, 5.0),\n",
       " ('2012-10-23', 19, 5, 0.0, 0.0),\n",
       " ('2012-10-23', 20, 14, 0.02, 0.0),\n",
       " ('2012-10-23', 21, 10, 0.0, 5.0),\n",
       " ('2012-10-23', 22, 10, 0.01, 0.0),\n",
       " ('2012-10-23', 23, 7, 0.0, 5.0),\n",
       " ('2012-10-24', 0, 2, 0.0, 3.0),\n",
       " ('2012-10-24', 1, 1, 0, 6.0),\n",
       " ('2012-10-24', 2, 4, 0, 5.0),\n",
       " ('2012-10-24', 3, None, 0.0, 7.0),\n",
       " ('2012-10-24', 4, 2, 0.0, 7.0),\n",
       " ('2012-10-24', 5, 3, 0.0, 6.0),\n",
       " ('2012-10-24', 6, 4, 0, 5.0),\n",
       " ('2012-10-24', 7, 3, 0, 5.0),\n",
       " ('2012-10-24', 8, 15, 0.0, 0.0),\n",
       " ('2012-10-24', 9, 7, 0, 0.0),\n",
       " ('2012-10-24', 10, 8, 0.0, 7.0),\n",
       " ('2012-10-24', 11, 7, 0.0, 7.0),\n",
       " ('2012-10-24', 12, 7, 0, 8.0),\n",
       " ('2012-10-24', 13, 9, 0.0, 8.0),\n",
       " ('2012-10-24', 14, 4, 0, 6.0),\n",
       " ('2012-10-24', 15, 10, 0.0, 7.0),\n",
       " ('2012-10-24', 16, 9, 0.0, 8.0),\n",
       " ('2012-10-24', 17, 8, 0.0, 5.0),\n",
       " ('2012-10-24', 18, 13, 0.0, 7.0),\n",
       " ('2012-10-24', 19, 8, 0.0, 8.0),\n",
       " ('2012-10-24', 20, 10, 0, 0.0),\n",
       " ('2012-10-24', 21, 14, 0, 3.0),\n",
       " ('2012-10-24', 22, 9, 0, 5.0),\n",
       " ('2012-10-24', 23, 6, 0.0, 0.0),\n",
       " ('2012-10-25', 0, 10, 0, 6.0),\n",
       " ('2012-10-25', 1, 4, 0.0, 3.0),\n",
       " ('2012-10-25', 2, 2, 0, 3.0),\n",
       " ('2012-10-25', 3, 2, 0, 6.0),\n",
       " ('2012-10-25', 4, 1, 0.0, 6.0),\n",
       " ('2012-10-25', 5, 4, 0.0, 0.0),\n",
       " ('2012-10-25', 6, 7, 0.0, 5.0),\n",
       " ('2012-10-25', 7, 5, 0.0, 6.0),\n",
       " ('2012-10-25', 8, 14, 0.0, 5.0),\n",
       " ('2012-10-25', 9, 4, 0.0, 3.0),\n",
       " ('2012-10-25', 10, 7, 0.0, 6.0),\n",
       " ('2012-10-25', 11, 9, 0.0, 0.0),\n",
       " ('2012-10-25', 12, 9, 0.0, 6.0),\n",
       " ('2012-10-25', 13, 5, 0.0, 0.0),\n",
       " ('2012-10-25', 14, 7, 0.0, 5.0),\n",
       " ('2012-10-25', 15, 7, 0.0, 5.0),\n",
       " ('2012-10-25', 16, 5, 0.0, 0.0),\n",
       " ('2012-10-25', 17, 7, 0.0, 3.0),\n",
       " ('2012-10-25', 18, 9, 0.0, 0.0),\n",
       " ('2012-10-25', 19, 4, 0.0, 0.0),\n",
       " ('2012-10-25', 20, 19, 0.0, 3.0),\n",
       " ('2012-10-25', 21, 9, 0.0, 3.0),\n",
       " ('2012-10-25', 22, 14, 0.0, 3.0),\n",
       " ('2012-10-25', 23, 11, 0.0, 0.0),\n",
       " ('2012-10-26', 0, 9, 0, 0.0),\n",
       " ('2012-10-26', 1, 6, 0.0, 0.0),\n",
       " ('2012-10-26', 2, 5, 0.0, 0.0),\n",
       " ('2012-10-26', 3, 6, 0.0, 3.0),\n",
       " ('2012-10-26', 4, 4, 0.0, 0.0),\n",
       " ('2012-10-26', 5, 3, 0.0, 0.0),\n",
       " ('2012-10-26', 6, None, 0.0, 0.0),\n",
       " ('2012-10-26', 7, 10, 0.0, 3.0),\n",
       " ('2012-10-26', 8, 5, 0.0, 3.0),\n",
       " ('2012-10-26', 9, 11, 0.0, 3.0),\n",
       " ('2012-10-26', 10, 6, 0.0, 3.0),\n",
       " ('2012-10-26', 11, 7, 0.0, 3.0),\n",
       " ('2012-10-26', 12, 6, 0.0, 0.0),\n",
       " ('2012-10-26', 13, 10, 0.0, 3.0),\n",
       " ('2012-10-26', 14, 6, 0.0, 3.0),\n",
       " ('2012-10-26', 15, 6, 0.0, 0.0),\n",
       " ('2012-10-26', 16, 5, 0.0, 0.0),\n",
       " ('2012-10-26', 17, 9, 0.0, 0.0),\n",
       " ('2012-10-26', 18, 4, 0.0, 0.0),\n",
       " ('2012-10-26', 19, 10, 0.0, 0.0),\n",
       " ('2012-10-26', 20, 20, 0.0, 3.0),\n",
       " ('2012-10-26', 21, 9, 0.0, 3.0),\n",
       " ('2012-10-26', 22, 12, 0.0, 0.0),\n",
       " ('2012-10-26', 23, 9, 0.0, 0.0),\n",
       " ('2012-10-27', 0, 13, 0.0, 3.0),\n",
       " ('2012-10-27', 1, 13, 0.0, 0.0),\n",
       " ('2012-10-27', 2, 13, 0.0, 3.0),\n",
       " ('2012-10-27', 3, 6, 0.0, 0.0),\n",
       " ('2012-10-27', 4, 3, 0.0, 6.0),\n",
       " ('2012-10-27', 5, 4, 0.0, 6.0),\n",
       " ('2012-10-27', 6, 4, 0.0, 6.0),\n",
       " ('2012-10-27', 7, 2, 0, 5.0),\n",
       " ('2012-10-27', 8, 2, 0, 5.0),\n",
       " ('2012-10-27', 9, 8, 0.0, 6.0),\n",
       " ('2012-10-27', 10, 4, 0, 7.0),\n",
       " ('2012-10-27', 11, 6, 0, 5.0),\n",
       " ('2012-10-27', 12, 13, 0.0, 8.0),\n",
       " ('2012-10-27', 13, 3, 0.0, 8.0),\n",
       " ('2012-10-27', 14, 12, 0.0, 10.0),\n",
       " ('2012-10-27', 15, 5, 0.0, 10.0),\n",
       " ('2012-10-27', 16, 13, 0.0, 7.0),\n",
       " ('2012-10-27', 17, 17, 0.0, 7.0),\n",
       " ('2012-10-27', 18, 18, 0.0, 7.0),\n",
       " ('2012-10-27', 19, 20, 0, 8.0),\n",
       " ('2012-10-27', 20, 16, 0.0, 7.0),\n",
       " ('2012-10-27', 21, 11, 0.0, 9.0),\n",
       " ('2012-10-27', 22, 12, 0.0, 9.0),\n",
       " ('2012-10-27', 23, 10, 0.0, 8.0),\n",
       " ('2012-10-28', 0, 14, 0.0, 11.0),\n",
       " ('2012-10-28', 1, 13, 0.0, 8.0),\n",
       " ('2012-10-28', 2, 8, 0.0, 8.0),\n",
       " ('2012-10-28', 3, 5, 0.0, 9.0),\n",
       " ('2012-10-28', 4, 8, 0.0, 10.0),\n",
       " ('2012-10-28', 5, 2, 0.0, 11.0),\n",
       " ('2012-10-28', 6, 3, 0, 10.0),\n",
       " ('2012-10-28', 7, 5, 0.0, 11.0),\n",
       " ('2012-10-28', 8, 2, 0.0, 11.0),\n",
       " ('2012-10-28', 9, 5, 0.0, 11.0),\n",
       " ('2012-10-28', 10, 3, 0.0, 10.0),\n",
       " ('2012-10-28', 11, 13, 0.0, 8.0),\n",
       " ('2012-10-28', 12, 8, 0.0, 7.0),\n",
       " ('2012-10-28', 13, 5, 0.0, 13.0),\n",
       " ('2012-10-28', 14, 10, 0.0, 13.0),\n",
       " ('2012-10-28', 15, 14, 0.0, 13.0),\n",
       " ('2012-10-28', 16, 8, 0.0, 16.0),\n",
       " ('2012-10-28', 17, 7, 0.0, 11.0),\n",
       " ('2012-10-28', 18, 7, 0.0, 15.0),\n",
       " ('2012-10-28', 19, 3, 0.0, 14.0),\n",
       " ('2012-10-28', 20, 6, 0.0, 16.0),\n",
       " ('2012-10-28', 21, 7, 0.0, 14.0),\n",
       " ('2012-10-28', 22, 3, 0.0, 16.0),\n",
       " ('2012-10-28', 23, 1, 0.0, 14.0),\n",
       " ('2012-10-29', 0, 1, 0.0, 16.0),\n",
       " ('2012-10-29', 1, None, 0.0, 11.0),\n",
       " ('2012-10-29', 2, 2, 0.0, 13.0),\n",
       " ('2012-10-29', 3, None, 0.0, 17.0),\n",
       " ('2012-10-29', 4, 1, 0.0, 15.0),\n",
       " ('2012-10-29', 5, 1, 0.0, 15.0),\n",
       " ('2012-10-29', 6, 1, 0.02, 16.0),\n",
       " ('2012-10-29', 7, 2, 0.02, 17.0),\n",
       " ('2012-10-29', 8, 1, 0.0, 21.0),\n",
       " ('2012-10-29', 9, 1, 0.0, 16.0),\n",
       " ('2012-10-29', 11, 4, 0, 21.0),\n",
       " ('2012-10-29', 12, 7, 0.02, 15.0),\n",
       " ('2012-10-29', 13, 2, 0.02, 24.0),\n",
       " ('2012-10-29', 14, 3, 0.03, 23.0),\n",
       " ('2012-10-29', 15, 3, 0.07, 26.0),\n",
       " ('2012-10-29', 16, None, 0.1, 23.0),\n",
       " ('2012-10-29', 17, 1, 0.04, 29.0),\n",
       " ('2012-10-29', 18, 3, 0.02, 21.0),\n",
       " ('2012-10-29', 19, 1, 0.01, 25.0),\n",
       " ('2012-10-29', 20, None, 0.0, 17.0),\n",
       " ('2012-10-29', 21, 2, 0.0, 15.0),\n",
       " ('2012-10-29', 22, None, 0.02, 9.0),\n",
       " ('2012-10-29', 23, None, 0.03, 7.0),\n",
       " ('2012-10-30', 0, 1, 0.03, 13.0),\n",
       " ('2012-10-30', 1, None, 0.0, 13.0),\n",
       " ('2012-10-30', 2, None, 0.03, 9.0),\n",
       " ('2012-10-30', 3, None, 0.04, 17.0),\n",
       " ('2012-10-30', 4, 1, 0.0, 9.0),\n",
       " ('2012-10-30', 5, None, 0.01, 7.0),\n",
       " ('2012-10-30', 6, None, 0.01, 7.0),\n",
       " ('2012-10-30', 7, None, 0.0, 10.0),\n",
       " ('2012-10-30', 8, 1, 0.01, 11.0),\n",
       " ('2012-10-30', 9, 3, 0.01, 15.0),\n",
       " ('2012-10-30', 10, 4, 0.02, 8.0),\n",
       " ('2012-10-30', 11, 3, 0.0, 7.0),\n",
       " ('2012-10-30', 12, 3, 0, 9.0),\n",
       " ('2012-10-30', 13, 5, 0, 7.0),\n",
       " ('2012-10-30', 16, 4, 0.01, 3.0),\n",
       " ('2012-10-30', 17, 5, 0, 6.0),\n",
       " ('2012-10-30', 18, 4, 0.0, 5.0),\n",
       " ('2012-10-30', 19, 7, 0.0, 3.0),\n",
       " ('2012-10-30', 20, 3, 0, 0.0),\n",
       " ('2012-10-30', 21, 5, 0.0, 5.0),\n",
       " ('2012-10-30', 22, 7, 0.0, 7.0),\n",
       " ('2012-10-30', 23, 2, 0, 5.0),\n",
       " ('2012-10-31', 0, 1, 0.0, 3.0),\n",
       " ('2012-10-31', 1, 1, 0.01, 5.0),\n",
       " ('2012-10-31', 2, 4, 0.0, 0.0),\n",
       " ('2012-10-31', 3, None, 0.0, 8.0),\n",
       " ('2012-10-31', 5, None, 0.0, 0.0),\n",
       " ('2012-10-31', 6, 4, 0.0, 6.0),\n",
       " ('2012-10-31', 8, 5, 0, 6.0),\n",
       " ('2012-10-31', 9, 5, 0, 6.0),\n",
       " ('2012-10-31', 10, 3, 0, 5.0),\n",
       " ('2012-10-31', 11, 5, 0.0, 5.0),\n",
       " ('2012-10-31', 12, 4, 0, 9.0),\n",
       " ('2012-10-31', 13, 4, 0.0, 6.0),\n",
       " ('2012-10-31', 14, 4, 0.0, 5.0),\n",
       " ('2012-10-31', 15, 2, 0.0, 3.0),\n",
       " ('2012-10-31', 16, 3, 0.0, 5.0),\n",
       " ('2012-10-31', 17, 1, 0.0, 5.0),\n",
       " ('2012-10-31', 18, 9, 0.0, 3.0),\n",
       " ('2012-10-31', 19, 4, 0.0, 9.0),\n",
       " ('2012-10-31', 20, 3, 0.0, 7.0),\n",
       " ('2012-10-31', 21, 2, 0.0, 7.0),\n",
       " ('2012-10-31', 22, 9, 0.0, 6.0),\n",
       " ('2012-10-31', 23, 2, 0.0, 3.0),\n",
       " ('2012-11-01', 0, 5, 0.0, 3.0),\n",
       " ('2012-11-01', 1, 1, 0.0, 3.0),\n",
       " ('2012-11-01', 2, None, 0.0, 3.0),\n",
       " ('2012-11-01', 4, 1, 0.0, 7.0),\n",
       " ('2012-11-01', 5, 1, 0.0, 6.0),\n",
       " ('2012-11-01', 6, 6, 0.0, 13.0),\n",
       " ('2012-11-01', 8, 6, 0.0, 7.0),\n",
       " ('2012-11-01', 9, 4, 0.0, 3.0),\n",
       " ('2012-11-01', 10, 8, 0.0, 6.0),\n",
       " ('2012-11-01', 11, 9, 0.0, 6.0),\n",
       " ('2012-11-01', 12, 9, 0.0, 11.0),\n",
       " ('2012-11-01', 13, 3, 0.0, 8.0),\n",
       " ('2012-11-01', 14, 4, 0.0, 8.0),\n",
       " ('2012-11-01', 16, 4, 0.0, 5.0),\n",
       " ('2012-11-01', 17, 4, 0.0, 5.0),\n",
       " ('2012-11-01', 18, 9, 0.0, 9.0),\n",
       " ('2012-11-01', 19, 9, 0.0, 3.0),\n",
       " ('2012-11-01', 20, 8, 0.0, 5.0),\n",
       " ('2012-11-01', 21, 3, 0.0, 8.0),\n",
       " ('2012-11-01', 22, 4, 0.0, 5.0),\n",
       " ('2012-11-01', 23, 10, 0.0, 0.0),\n",
       " ('2012-11-02', 0, 5, 0.0, 5.0),\n",
       " ('2012-11-02', 1, 3, 0.0, 7.0),\n",
       " ('2012-11-02', 2, None, 0.0, 3.0),\n",
       " ('2012-11-02', 3, 1, 0.0, 3.0),\n",
       " ('2012-11-02', 4, 1, 0.0, 5.0),\n",
       " ('2012-11-02', 5, 1, 0.0, 5.0),\n",
       " ('2012-11-02', 6, 1, 0.0, 6.0),\n",
       " ('2012-11-02', 8, 6, 0.0, 5.0),\n",
       " ('2012-11-02', 9, None, 0.0, 7.0),\n",
       " ('2012-11-02', 10, 7, 0.0, 9.0),\n",
       " ('2012-11-02', 11, 5, 0.0, 7.0),\n",
       " ('2012-11-02', 12, 5, 0.0, 7.0),\n",
       " ('2012-11-02', 13, 4, 0.0, 6.0),\n",
       " ('2012-11-02', 14, 5, 0.0, 6.0),\n",
       " ('2012-11-02', 15, 9, 0.0, 5.0),\n",
       " ('2012-11-02', 16, 4, 0.0, 11.0),\n",
       " ('2012-11-02', 17, 3, 0.0, 8.0),\n",
       " ('2012-11-02', 18, 6, 0.0, 9.0),\n",
       " ('2012-11-02', 19, 11, 0.0, 7.0),\n",
       " ('2012-11-02', 20, 7, 0.0, 9.0),\n",
       " ('2012-11-02', 21, 11, 0.0, 7.0),\n",
       " ('2012-11-02', 22, 9, 0.0, 8.0),\n",
       " ('2012-11-02', 23, 7, 0.0, 8.0),\n",
       " ('2012-11-03', 0, 12, 0.0, 7.0),\n",
       " ('2012-11-03', 1, 4, 0.0, 7.0),\n",
       " ('2012-11-03', 2, 7, 0.0, 7.0),\n",
       " ('2012-11-03', 3, 2, 0.0, 7.0),\n",
       " ('2012-11-03', 4, 2, 0.0, 8.0),\n",
       " ('2012-11-03', 5, 1, 0.0, 8.0),\n",
       " ('2012-11-03', 6, 2, 0.0, 7.0),\n",
       " ('2012-11-03', 7, 2, 0.0, 6.0),\n",
       " ('2012-11-03', 8, 1, 0.0, 10.0),\n",
       " ('2012-11-03', 9, 6, 0.0, 13.0),\n",
       " ('2012-11-03', 10, 5, 0.0, 6.0),\n",
       " ('2012-11-03', 11, 13, 0.0, 13.0),\n",
       " ('2012-11-03', 12, 5, 0.0, 13.0),\n",
       " ('2012-11-03', 13, 6, 0.0, 8.0),\n",
       " ('2012-11-03', 14, 12, 0.0, 8.0),\n",
       " ('2012-11-03', 15, 11, 0.0, 7.0),\n",
       " ('2012-11-03', 16, 7, 0.0, 10.0),\n",
       " ('2012-11-03', 17, 15, 0.0, 9.0),\n",
       " ('2012-11-03', 18, 12, 0.0, 9.0),\n",
       " ('2012-11-03', 19, 12, 0.0, 13.0),\n",
       " ('2012-11-03', 20, 9, 0.0, 10.0),\n",
       " ('2012-11-03', 21, 16, 0.0, 9.0),\n",
       " ('2012-11-03', 22, 9, 0.0, 0.0),\n",
       " ('2012-11-03', 23, 13, 0.0, 7.0),\n",
       " ('2012-11-04', 0, 8, 0.0, 9.0),\n",
       " ('2012-11-04', 1, 17, 0.0, 7.0),\n",
       " ('2012-11-04', 2, 11, 0.0, 7.0),\n",
       " ('2012-11-04', 3, 3, 0.0, 7.0),\n",
       " ('2012-11-04', 4, 5, 0.0, 8.0),\n",
       " ('2012-11-04', 5, 1, 0.0, 6.0),\n",
       " ('2012-11-04', 6, None, 0.0, 6.0),\n",
       " ('2012-11-04', 7, 1, 0.0, 3.0),\n",
       " ('2012-11-04', 8, 2, 0.0, 7.0),\n",
       " ('2012-11-04', 9, 4, 0.0, 9.0),\n",
       " ('2012-11-04', 11, 8, 0.0, 6.0),\n",
       " ('2012-11-04', 12, 11, 0.0, 8.0),\n",
       " ('2012-11-04', 13, 8, 0.0, 8.0),\n",
       " ('2012-11-04', 14, 8, 0.0, 7.0),\n",
       " ('2012-11-04', 15, 3, 0.0, 7.0),\n",
       " ('2012-11-04', 16, 7, 0.0, 5.0),\n",
       " ('2012-11-04', 17, 11, 0.0, 5.0),\n",
       " ('2012-11-04', 19, 9, 0.0, 7.0),\n",
       " ('2012-11-04', 21, 6, 0.0, 7.0),\n",
       " ('2012-11-04', 22, 5, 0.0, 6.0),\n",
       " ('2012-11-04', 23, 2, 0.0, 5.0),\n",
       " ('2012-11-05', 0, 1, 0.0, 0.0),\n",
       " ('2012-11-05', 1, 1, 0.0, 5.0),\n",
       " ('2012-11-05', 2, 2, 0.0, 3.0),\n",
       " ('2012-11-05', 3, None, 0.0, 7.0),\n",
       " ('2012-11-05', 4, None, 0.0, 3.0),\n",
       " ('2012-11-05', 5, 1, 0.0, 6.0),\n",
       " ('2012-11-05', 6, 5, 0.0, 8.0),\n",
       " ('2012-11-05', 7, 4, 0.0, 6.0),\n",
       " ('2012-11-05', 8, 10, 0.0, 7.0),\n",
       " ('2012-11-05', 9, 8, 0.0, 3.0),\n",
       " ('2012-11-05', 10, 7, 0.0, 3.0),\n",
       " ('2012-11-05', 11, 5, 0.0, 3.0),\n",
       " ('2012-11-05', 12, 3, 0.0, 5.0),\n",
       " ('2012-11-05', 13, 6, 0.0, 3.0),\n",
       " ('2012-11-05', 15, 3, 0.0, 8.0),\n",
       " ('2012-11-05', 17, 22, 0.0, 5.0),\n",
       " ('2012-11-05', 18, 10, 0.0, 5.0),\n",
       " ('2012-11-05', 19, 12, 0.0, 0.0),\n",
       " ('2012-11-05', 20, 11, 0.0, 3.0),\n",
       " ('2012-11-05', 21, 9, 0.0, 7.0),\n",
       " ('2012-11-05', 22, 3, 0.0, 6.0),\n",
       " ('2012-11-05', 23, 5, 0.0, 9.0)]"
      ]
     },
     "execution_count": 43,
     "metadata": {},
     "output_type": "execute_result"
    }
   ],
   "source": [
    "#Columns:\n",
    "#Date, Hour, No. of Trips in that hour, Hourly Precipitation, Wind Speed\n",
    "engine.execute(QUERY_6).fetchall()"
   ]
  },
  {
   "cell_type": "code",
   "execution_count": 44,
   "id": "87b726ea",
   "metadata": {},
   "outputs": [],
   "source": [
    "write_query_to_file(QUERY_6, \"hurricane_sandy_trips_taken.sql\")"
   ]
  },
  {
   "cell_type": "markdown",
   "id": "5574f59c",
   "metadata": {},
   "source": [
    "## Part 4: Visualizing the Data"
   ]
  },
  {
   "cell_type": "markdown",
   "id": "6d9eef42",
   "metadata": {},
   "source": [
    "### Visualization 1\n",
    "- Create an appropriate visualization for the first query/question in part 3."
   ]
  },
  {
   "cell_type": "code",
   "execution_count": 45,
   "id": "0de8394c",
   "metadata": {},
   "outputs": [],
   "source": [
    "def plot_visual_popular_hour(dataframe):\n",
    "    day_list = []\n",
    "    count_list = []\n",
    "    for d in dataframe:\n",
    "        day_list.append(d[0])\n",
    "        count_list.append(d[1])\n",
    "    plt.bar(day_list, count_list)\n",
    "    plt.xlabel(\"Hour of the Day\")\n",
    "    plt.ylabel(\"Travel Number\")\n",
    "    plt.title(\"Most popular hour to ride yellow taxis\") #changed\n",
    "    plt.show()"
   ]
  },
  {
   "cell_type": "code",
   "execution_count": 46,
   "id": "847ced2f",
   "metadata": {},
   "outputs": [],
   "source": [
    "def get_data_for_visual_popular_hour():\n",
    "    \n",
    "    #execute QUERY_1 from part 3 question 1\n",
    "    res = engine.execute(QUERY_1).fetchall()\n",
    "    return res"
   ]
  },
  {
   "cell_type": "code",
   "execution_count": 47,
   "id": "627e4cbe",
   "metadata": {},
   "outputs": [
    {
     "data": {
      "image/png": "[encoded data removed]",
      "text/plain": [
       "<Figure size 640x480 with 1 Axes>"
      ]
     },
     "metadata": {},
     "output_type": "display_data"
    }
   ],
   "source": [
    "vis1_dataframe = get_data_for_visual_popular_hour()\n",
    "plot_visual_popular_hour(vis1_dataframe)"
   ]
  },
  {
   "cell_type": "markdown",
   "id": "c4e6f3f4",
   "metadata": {},
   "source": [
    "### Visualization 2\n",
    "- Create a visualization that shows the average distance traveled per month (regardless of year - so group by each month) for both taxis and Ubers combined. Include the 90% confidence interval around the mean in the visualization."
   ]
  },
  {
   "cell_type": "code",
   "execution_count": 48,
   "id": "ff79df09",
   "metadata": {},
   "outputs": [],
   "source": [
    "def plot_visual_average_distance(dataframe):\n",
    "    day_list = []\n",
    "    count_list = []\n",
    "    ub_list = []\n",
    "    lb_list = []\n",
    "    for d in dataframe:\n",
    "        day_list.append(d[0])\n",
    "        count_list.append(d[1])\n",
    "        ub_list.append(d[1]+math.sqrt(d[2])*1.645)\n",
    "        lb_list.append(d[1]-math.sqrt(d[2])*1.645)\n",
    "    plt.fill_between(day_list, ub_list, lb_list, alpha=.5, linewidth=0)\n",
    "    plt.plot(day_list, count_list)#need change\n",
    "    plt.xlabel(\"Month\")\n",
    "    plt.ylabel(\"Average distance\")\n",
    "    plt.title(\"Average distance traveled per Month\") #changed\n",
    "    plt.show()"
   ]
  },
  {
   "cell_type": "code",
   "execution_count": 49,
   "id": "b769d9ae",
   "metadata": {},
   "outputs": [],
   "source": [
    "def get_data_for_visual_average_distance():\n",
    "    QUERY_V2 = '''\n",
    "    WITH trip AS(\n",
    "        SELECT MONTH, cal_distance\n",
    "        FROM taxi_trips\n",
    "        UNION ALL\n",
    "        SELECT MONTH, cal_distance\n",
    "        FROM uber_trips\n",
    "    )\n",
    "    SELECT MONTH, AVG(cal_distance), AVG(cal_distance * cal_distance) - AVG(cal_distance) * AVG(cal_distance)\n",
    "    FROM trip \n",
    "    GROUP BY MONTH \n",
    "    '''\n",
    "    res = engine.execute(QUERY_V2).fetchall()\n",
    "    return res"
   ]
  },
  {
   "cell_type": "code",
   "execution_count": 50,
   "id": "d2e84d53",
   "metadata": {},
   "outputs": [
    {
     "data": {
      "image/png": "[encoded data removed]",
      "text/plain": [
       "<Figure size 640x480 with 1 Axes>"
      ]
     },
     "metadata": {},
     "output_type": "display_data"
    }
   ],
   "source": [
    "vis2_dataframe = get_data_for_visual_average_distance()\n",
    "plot_visual_average_distance(vis2_dataframe)"
   ]
  },
  {
   "cell_type": "markdown",
   "id": "d9a4217c",
   "metadata": {},
   "source": [
    "### Visualization 3\n",
    "- Define three lat/long coordinate boxes around the three major New York airports: LGA, JFK, and EWR (you can use bboxfinder to help). Create a visualization that compares what day of the week was most popular for drop offs for each airport. "
   ]
  },
  {
   "cell_type": "markdown",
   "id": "a863a9b0",
   "metadata": {},
   "source": [
    "- Query steps:\n",
    "- 1. By bboxfinder, we find latitude and longitude of LGA, JFK, and EWR\n",
    "- 2. Select DAY, WEEK and compare distance of each data on LGA, JFK or EWR"
   ]
  },
  {
   "cell_type": "code",
   "execution_count": 51,
   "id": "89c75fd1",
   "metadata": {},
   "outputs": [],
   "source": [
    "#changed\n",
    "def plot_visual_popular_dropoffs_day(df_LGA, df_JFK, df_EWR):\n",
    "    LGA_day = []\n",
    "    LGA_count = []\n",
    "    for d in df_LGA:\n",
    "        LGA_day.append(d[0])\n",
    "        LGA_count.append(d[1])\n",
    "    JFK_day = []\n",
    "    JFK_count = []\n",
    "    for d in df_JFK:\n",
    "        JFK_day.append(d[0])\n",
    "        JFK_count.append(d[1])\n",
    "    EWR_day = []\n",
    "    EWR_count = []\n",
    "    for d in df_EWR:\n",
    "        EWR_day.append(d[0])\n",
    "        EWR_count.append(d[1])\n",
    "    \n",
    "    fig, (ax1, ax2, ax3) = plt.subplots(3, 1)\n",
    "    \n",
    "    ax1.bar(LGA_day, LGA_count)\n",
    "    ax1.set_title(\"Most popular day to go LGA\")\n",
    "    \n",
    "    ax2.bar(JFK_day, JFK_count)\n",
    "    ax2.set_title(\"Most popular day to go JFK\")\n",
    "    \n",
    "    ax3.bar(EWR_day, EWR_count)\n",
    "    ax3.set_title(\"Most popular day to go EWR\")\n",
    "    \n",
    "    fig.text(0.5, -0.04, \"days\", ha=\"center\", va=\"center\")\n",
    "    fig.text(-0.1, 0.5, \"No. of trips\", ha='center', va=\"center\", rotation='vertical')\n",
    "    fig.tight_layout()\n",
    "    \n",
    "    plt.show()"
   ]
  },
  {
   "cell_type": "code",
   "execution_count": 52,
   "id": "bfb3cdc0",
   "metadata": {},
   "outputs": [],
   "source": [
    "#changed\n",
    "def get_data_for_visual_popular_dropoffs_day():\n",
    "    #LGA_box_lat = [40.765396, 40.784441]\n",
    "    #LGA_box_lng = [-73.900051, -73.858852]\n",
    "    #JFK_box_lat = [40.624898, 40.664233]\n",
    "    #JFK_box_lng = [-73.823318, -73.744526]\n",
    "    #EWR_box_lat = [40.669572, 40.710247]\n",
    "    #EWR_box_lng = [-74.191961, -74.153681]\n",
    "    QUERY_LGA = \"\"\"\n",
    "    WITH trip AS(\n",
    "        SELECT WEEK, dropoff_longitude as lng, dropoff_latitude as lat\n",
    "        FROM taxi_trips\n",
    "        UNION ALL\n",
    "        SELECT WEEK, dropoff_longitude as lng, dropoff_latitude as lat\n",
    "        FROM uber_trips\n",
    "    )\n",
    "    SELECT WEEK, COUNT(*) as number_of_trips\n",
    "    FROM trip\n",
    "    WHERE lat BETWEEN 40.765396 AND 40.784441 AND lng BETWEEN -73.900051 AND -73.858852\n",
    "    GROUP BY WEEK\n",
    "    \"\"\"\n",
    "    \n",
    "    QUERY_JFK = \"\"\"\n",
    "    WITH trip AS(\n",
    "        SELECT WEEK, dropoff_longitude as lng, dropoff_latitude as lat\n",
    "        FROM taxi_trips\n",
    "        UNION ALL\n",
    "        SELECT WEEK, dropoff_longitude as lng, dropoff_latitude as lat\n",
    "        FROM uber_trips\n",
    "    )\n",
    "    SELECT WEEK, COUNT(*) as number_of_trips\n",
    "    FROM trip\n",
    "    WHERE lat BETWEEN 40.624898 AND 40.664233 AND lng BETWEEN -73.823318 AND -73.744526\n",
    "    GROUP BY WEEK\n",
    "    \"\"\"\n",
    "    \n",
    "    QUERY_EWR = \"\"\"\n",
    "    WITH trip AS(\n",
    "        SELECT WEEK, dropoff_longitude as lng, dropoff_latitude as lat\n",
    "        FROM taxi_trips\n",
    "        UNION ALL\n",
    "        SELECT WEEK, dropoff_longitude as lng, dropoff_latitude as lat\n",
    "        FROM uber_trips\n",
    "    )\n",
    "    SELECT WEEK, COUNT(*) as number_of_trips\n",
    "    FROM trip\n",
    "    WHERE lat BETWEEN 40.669572 AND 40.710247 AND lng BETWEEN -74.191961 AND -74.153681\n",
    "    GROUP BY WEEK\n",
    "    \"\"\"\n",
    "    \n",
    "    df_LGA = engine.execute(QUERY_LGA).fetchall()\n",
    "    df_JFK = engine.execute(QUERY_JFK).fetchall()\n",
    "    df_EWR = engine.execute(QUERY_EWR).fetchall()\n",
    "    res = [df_LGA, df_JFK, df_EWR]\n",
    "    return res"
   ]
  },
  {
   "cell_type": "code",
   "execution_count": 53,
   "id": "7791cf40",
   "metadata": {},
   "outputs": [
    {
     "data": {
      "image/png": "[encoded data removed]",
      "text/plain": [
       "<Figure size 640x480 with 3 Axes>"
      ]
     },
     "metadata": {},
     "output_type": "display_data"
    }
   ],
   "source": [
    "vis3_dflist = get_data_for_visual_popular_dropoffs_day()\n",
    "plot_visual_popular_dropoffs_day(vis3_dflist[0], vis3_dflist[1], vis3_dflist[2])"
   ]
  },
  {
   "cell_type": "markdown",
   "id": "f0dbf811",
   "metadata": {},
   "source": [
    "### Visualization 4\n",
    "- Create a heatmap of all hired trips over a map of the area. Consider using KeplerGL or another library that helps generate geospatial visualizations."
   ]
  },
  {
   "cell_type": "markdown",
   "id": "01303aaa",
   "metadata": {},
   "source": [
    "- Query steps:\n",
    "- 1. Select taxi_trips and uber_trips\n",
    "- 2. Return all pickup_lat, pickup_lon, dropoff_lat, dropoff_lon\n",
    "- 3. Use KeplerGl to show all points"
   ]
  },
  {
   "cell_type": "code",
   "execution_count": 54,
   "id": "89b8d57f",
   "metadata": {},
   "outputs": [],
   "source": [
    "def plot_visual_all_trips_heatmap(df):\n",
    "    map = KeplerGl(height=500)\n",
    "    map.add_data(data=df, name='NYC hired trips heatmap')\n",
    "    return map"
   ]
  },
  {
   "cell_type": "code",
   "execution_count": 55,
   "id": "da6ce5a1",
   "metadata": {},
   "outputs": [],
   "source": [
    "def get_data_for_visual_all_trips_heatmap():\n",
    "    #changed\n",
    "    QUERY_V4 = '''\n",
    "     WITH trip AS(\n",
    "        SELECT dropoff_longitude as lng, dropoff_latitude as lat\n",
    "        FROM taxi_trips\n",
    "        UNION ALL\n",
    "        SELECT dropoff_longitude as lng, dropoff_latitude as lat\n",
    "        FROM uber_trips\n",
    "    )\n",
    "    SELECT lat as Latitude, lng as Longitude\n",
    "    FROM trip\n",
    "    '''\n",
    "    res1 = engine.execute(QUERY_V4).fetchall()\n",
    "    res = pd.DataFrame(res1)\n",
    "    return res"
   ]
  },
  {
   "cell_type": "code",
   "execution_count": 56,
   "id": "df945232",
   "metadata": {},
   "outputs": [
    {
     "name": "stdout",
     "output_type": "stream",
     "text": [
      "User Guide: https://docs.kepler.gl/docs/keplergl-jupyter\n"
     ]
    }
   ],
   "source": [
    "vis4_dataframe = get_data_for_visual_all_trips_heatmap()\n",
    "map = plot_visual_all_trips_heatmap(vis4_dataframe)"
   ]
  },
  {
   "cell_type": "code",
   "execution_count": 57,
   "id": "abd0eb6f",
   "metadata": {},
   "outputs": [
    {
     "data": {
      "application/vnd.jupyter.widget-view+json": {
       "model_id": "f3c8e6a329ba41b4a9b70d0fc0b2817c",
       "version_major": 2,
       "version_minor": 0
      },
      "text/plain": [
       "KeplerGl(data={'NYC hired trips heatmap': {'index': [0, 1, 2, 3, 4, 5, 6, 7, 8, 9, 10, 11, 12, 13, 14, 15, 16,…"
      ]
     },
     "metadata": {},
     "output_type": "display_data"
    }
   ],
   "source": [
    "map"
   ]
  },
  {
   "cell_type": "markdown",
   "id": "38b56a65",
   "metadata": {},
   "source": [
    "### Visualization 5\n",
    "- Create a scatter plot that compares tip amount versus distance for Yellow Taxi rides. You may remove any outliers how you see fit."
   ]
  },
  {
   "cell_type": "markdown",
   "id": "c4f38ed6",
   "metadata": {},
   "source": [
    "- Query steps:\n",
    "- 1. Select taxi_trips\n",
    "- 2. Return tip_amount and cal_distance\n",
    "- 3. Show scatter about tip_amount and cal_distance"
   ]
  },
  {
   "cell_type": "code",
   "execution_count": 58,
   "id": "95f84d18",
   "metadata": {},
   "outputs": [],
   "source": [
    "def plot_visual_tip_distance(dataframe):\n",
    "    tip_list = []\n",
    "    distance_list = []\n",
    "    for d in dataframe:\n",
    "        tip_list.append(d[0])\n",
    "        distance_list.append(d[1])\n",
    "    plt.scatter(tip_list, distance_list)\n",
    "    plt.xlabel(\"tip_amount\")\n",
    "    plt.ylabel(\"distance\")\n",
    "    plt.title(\"Tip amount VS Distance\")   \n",
    "    plt.show()"
   ]
  },
  {
   "cell_type": "code",
   "execution_count": 59,
   "id": "30f3d7b7",
   "metadata": {},
   "outputs": [],
   "source": [
    "def get_data_for_visual_tip_distance():\n",
    "    #changed\n",
    "    QUERY_V5 = '''\n",
    "    SELECT tip_amount, cal_distance\n",
    "    FROM taxi_trips\n",
    "    WHERE tip_amount between 0 AND 50 AND cal_distance between 0 and 200\n",
    "    '''\n",
    "    res = engine.execute(QUERY_V5).fetchall()\n",
    "    return res"
   ]
  },
  {
   "cell_type": "code",
   "execution_count": 60,
   "id": "69f5e5fb",
   "metadata": {},
   "outputs": [
    {
     "data": {
      "image/png": "[encoded data removed]",
      "text/plain": [
       "<Figure size 640x480 with 1 Axes>"
      ]
     },
     "metadata": {},
     "output_type": "display_data"
    }
   ],
   "source": [
    "vis5_dataframe = get_data_for_visual_tip_distance()\n",
    "plot_visual_tip_distance(vis5_dataframe)"
   ]
  },
  {
   "cell_type": "markdown",
   "id": "166100b0",
   "metadata": {},
   "source": [
    "### Visualization 6\n",
    "- Create another scatter plot that compares tip amount versus precipitation amount for Yellow Taxi rides. You may remove any outliers how you see fit."
   ]
  },
  {
   "cell_type": "markdown",
   "id": "53783c38",
   "metadata": {},
   "source": [
    "- Query steps:\n",
    "- 1. Union taxi_trips and hourly_weather by hour column\n",
    "- 2. Select taxi_trips.tip_amount and hourly_weather.hourly_precipitation\n",
    "- 3. Show scatter tip_amount and hourly_precipitation"
   ]
  },
  {
   "cell_type": "code",
   "execution_count": 61,
   "id": "52c0da1d",
   "metadata": {},
   "outputs": [],
   "source": [
    "def plot_visual_tip_precipitation(dataframe):\n",
    "    tip_list = []\n",
    "    rain_list = []\n",
    "    for d in dataframe:\n",
    "        tip_list.append(d[0])\n",
    "        rain_list.append(d[1])\n",
    "    plt.scatter(tip_list, rain_list)\n",
    "    plt.xlabel(\"Tip\")\n",
    "    plt.ylabel(\"Precipitation amount\")\n",
    "    plt.title(\"Tip amount VS Precipitation amount\")\n",
    "    plt.show()"
   ]
  },
  {
   "cell_type": "code",
   "execution_count": 62,
   "id": "7c486c56",
   "metadata": {},
   "outputs": [],
   "source": [
    "def get_data_for_visual_tip_precipitation():\n",
    "    #changed\n",
    "    QUERY_V6 = '''\n",
    "    SELECT taxi_trips.tip_amount, hourly_weather.HourlyPrecipitation \n",
    "    FROM taxi_trips \n",
    "    LEFT JOIN hourly_weather ON taxi_trips.HOUR = hourly_weather.HOUR\n",
    "    WHERE taxi_trips.tip_amount BETWEEN 0 AND 50\n",
    "    ORDER BY RANDOM()\n",
    "    LIMIT 1000\n",
    "    '''\n",
    "    res = engine.execute(QUERY_V6).fetchall()\n",
    "    return res"
   ]
  },
  {
   "cell_type": "code",
   "execution_count": 63,
   "id": "8063e24e",
   "metadata": {},
   "outputs": [
    {
     "data": {
      "image/png": "[encoded data removed]",
      "text/plain": [
       "<Figure size 640x480 with 1 Axes>"
      ]
     },
     "metadata": {},
     "output_type": "display_data"
    }
   ],
   "source": [
    "vis6_dataframe = get_data_for_visual_tip_precipitation()\n",
    "plot_visual_tip_precipitation(vis6_dataframe)"
   ]
  },
  {
   "cell_type": "markdown",
   "id": "6ea105c9",
   "metadata": {},
   "source": [
    "# Extra Credit: Animation effect\n",
    "1. Change code in visualization 5 to add animation effect\n",
    "2. Call query of V5 and create animated scatter plot"
   ]
  },
  {
   "cell_type": "code",
   "execution_count": 64,
   "id": "554b3190",
   "metadata": {},
   "outputs": [],
   "source": [
    "\n",
    "#visualization 5 change to animation\n",
    "def plot_anime_tip_distance1(dataframe):\n",
    "    tip_list = []\n",
    "    distance_list = []\n",
    "    for d in dataframe:\n",
    "        tip_list.append(d[0])\n",
    "        distance_list.append(d[1])\n",
    "    tip_list = tip_list[:1000]\n",
    "    distance_list = distance_list[:1000]\n",
    "    #plt.rcParams[\"animation.html\"] = \"jshtml\"\n",
    "    fig, ax = plt.subplots()\n",
    "    \n",
    "    def animate(i):\n",
    "        ax.clear()\n",
    "        ax.scatter(tip_list, distance_list, linewidths=tan(i))\n",
    "        ax.set_xlabel(\"tip_amount\")\n",
    "        ax.set_ylabel(\"distance\")\n",
    "    \n",
    "    #export the animation as gif file because cannot display animation in python directly\n",
    "    ani = animation.FuncAnimation(fig, animate, frames=10, interval = 100)\n",
    "    ani.save(\"ec1.gif\", writer=\"pillow\")"
   ]
  },
  {
   "cell_type": "code",
   "execution_count": 65,
   "id": "c248c183",
   "metadata": {},
   "outputs": [
    {
     "data": {
      "image/png": "[encoded data removed]",
      "text/plain": [
       "<Figure size 640x480 with 1 Axes>"
      ]
     },
     "metadata": {},
     "output_type": "display_data"
    }
   ],
   "source": [
    "ani5_dataframe = get_data_for_visual_tip_distance()\n",
    "plot_anime_tip_distance1(ani5_dataframe)"
   ]
  },
  {
   "cell_type": "markdown",
   "id": "f416156f",
   "metadata": {},
   "source": [
    "# Extra Credit: Sunset, Sunrise"
   ]
  },
  {
   "cell_type": "code",
   "execution_count": 66,
   "id": "c4b16674",
   "metadata": {},
   "outputs": [],
   "source": [
    "def clean_month_weather_data_sun(csv_file):\n",
    "    pd_data = pd.read_csv(csv_file, usecols=['DATE','Sunrise','Sunset'])\n",
    "    pd_data.dropna(inplace=True)\n",
    "    pd_data['DATE'] = pd.to_datetime(pd_data['DATE'])\n",
    "    pd_data['YEAR'] = pd_data['DATE'].dt.year.astype(int)\n",
    "    pd_data['MONTH'] = pd_data['DATE'].dt.month.astype(int)\n",
    "    pd_data['DAY'] = pd_data['DATE'].dt.day.astype(int)\n",
    "    pd_data['HOUR'] = pd_data['DATE'].dt.hour.astype(int)    \n",
    "    pd_data[\"WEEK\"] = pd_data['DATE'].dt.dayofweek+1  \n",
    "    sun_weather = pd_data\n",
    "    return sun_weather"
   ]
  },
  {
   "cell_type": "code",
   "execution_count": 67,
   "id": "22e5d38c",
   "metadata": {},
   "outputs": [],
   "source": [
    "def load_and_clean_weather_data():\n",
    "    sun_dataframes = []\n",
    "    \n",
    "    weather_csv_files = [\"2009_weather.csv\"]\n",
    "    \n",
    "    for csv_file in weather_csv_files:\n",
    "        sun_dataframe = clean_month_weather_data_sun(csv_file)\n",
    "        sun_dataframes.append(sun_dataframe)\n",
    "        \n",
    "    # create two dataframes with hourly & daily data from every month\n",
    "    sun_data = pd.concat(sun_dataframes)\n",
    "    sun_data = sun_data.reset_index(inplace=False)\n",
    "    #sun_data.drop('index',axis='column')\n",
    "    return sun_data"
   ]
  },
  {
   "cell_type": "code",
   "execution_count": 68,
   "id": "d7204255",
   "metadata": {},
   "outputs": [
    {
     "data": {
      "text/html": [
       "<div>\n",
       "<style scoped>\n",
       "    .dataframe tbody tr th:only-of-type {\n",
       "        vertical-align: middle;\n",
       "    }\n",
       "\n",
       "    .dataframe tbody tr th {\n",
       "        vertical-align: top;\n",
       "    }\n",
       "\n",
       "    .dataframe thead th {\n",
       "        text-align: right;\n",
       "    }\n",
       "</style>\n",
       "<table border=\"1\" class=\"dataframe\">\n",
       "  <thead>\n",
       "    <tr style=\"text-align: right;\">\n",
       "      <th></th>\n",
       "      <th>index</th>\n",
       "      <th>DATE</th>\n",
       "      <th>Sunrise</th>\n",
       "      <th>Sunset</th>\n",
       "      <th>YEAR</th>\n",
       "      <th>MONTH</th>\n",
       "      <th>DAY</th>\n",
       "      <th>HOUR</th>\n",
       "      <th>WEEK</th>\n",
       "    </tr>\n",
       "  </thead>\n",
       "  <tbody>\n",
       "    <tr>\n",
       "      <th>0</th>\n",
       "      <td>55</td>\n",
       "      <td>2009-01-02 23:59:00</td>\n",
       "      <td>720.0</td>\n",
       "      <td>1640.0</td>\n",
       "      <td>2009</td>\n",
       "      <td>1</td>\n",
       "      <td>2</td>\n",
       "      <td>23</td>\n",
       "      <td>5</td>\n",
       "    </tr>\n",
       "    <tr>\n",
       "      <th>1</th>\n",
       "      <td>163</td>\n",
       "      <td>2009-01-06 23:59:00</td>\n",
       "      <td>720.0</td>\n",
       "      <td>1644.0</td>\n",
       "      <td>2009</td>\n",
       "      <td>1</td>\n",
       "      <td>6</td>\n",
       "      <td>23</td>\n",
       "      <td>2</td>\n",
       "    </tr>\n",
       "    <tr>\n",
       "      <th>2</th>\n",
       "      <td>202</td>\n",
       "      <td>2009-01-07 23:59:00</td>\n",
       "      <td>720.0</td>\n",
       "      <td>1645.0</td>\n",
       "      <td>2009</td>\n",
       "      <td>1</td>\n",
       "      <td>7</td>\n",
       "      <td>23</td>\n",
       "      <td>3</td>\n",
       "    </tr>\n",
       "    <tr>\n",
       "      <th>3</th>\n",
       "      <td>305</td>\n",
       "      <td>2009-01-10 23:59:00</td>\n",
       "      <td>720.0</td>\n",
       "      <td>1648.0</td>\n",
       "      <td>2009</td>\n",
       "      <td>1</td>\n",
       "      <td>10</td>\n",
       "      <td>23</td>\n",
       "      <td>6</td>\n",
       "    </tr>\n",
       "    <tr>\n",
       "      <th>4</th>\n",
       "      <td>343</td>\n",
       "      <td>2009-01-11 23:59:00</td>\n",
       "      <td>720.0</td>\n",
       "      <td>1649.0</td>\n",
       "      <td>2009</td>\n",
       "      <td>1</td>\n",
       "      <td>11</td>\n",
       "      <td>23</td>\n",
       "      <td>7</td>\n",
       "    </tr>\n",
       "    <tr>\n",
       "      <th>...</th>\n",
       "      <td>...</td>\n",
       "      <td>...</td>\n",
       "      <td>...</td>\n",
       "      <td>...</td>\n",
       "      <td>...</td>\n",
       "      <td>...</td>\n",
       "      <td>...</td>\n",
       "      <td>...</td>\n",
       "      <td>...</td>\n",
       "    </tr>\n",
       "    <tr>\n",
       "      <th>155</th>\n",
       "      <td>10755</td>\n",
       "      <td>2009-12-19 23:59:00</td>\n",
       "      <td>715.0</td>\n",
       "      <td>1630.0</td>\n",
       "      <td>2009</td>\n",
       "      <td>12</td>\n",
       "      <td>19</td>\n",
       "      <td>23</td>\n",
       "      <td>6</td>\n",
       "    </tr>\n",
       "    <tr>\n",
       "      <th>156</th>\n",
       "      <td>10791</td>\n",
       "      <td>2009-12-20 23:59:00</td>\n",
       "      <td>716.0</td>\n",
       "      <td>1631.0</td>\n",
       "      <td>2009</td>\n",
       "      <td>12</td>\n",
       "      <td>20</td>\n",
       "      <td>23</td>\n",
       "      <td>7</td>\n",
       "    </tr>\n",
       "    <tr>\n",
       "      <th>157</th>\n",
       "      <td>10919</td>\n",
       "      <td>2009-12-25 23:59:00</td>\n",
       "      <td>718.0</td>\n",
       "      <td>1634.0</td>\n",
       "      <td>2009</td>\n",
       "      <td>12</td>\n",
       "      <td>25</td>\n",
       "      <td>23</td>\n",
       "      <td>5</td>\n",
       "    </tr>\n",
       "    <tr>\n",
       "      <th>158</th>\n",
       "      <td>10970</td>\n",
       "      <td>2009-12-26 23:59:00</td>\n",
       "      <td>719.0</td>\n",
       "      <td>1634.0</td>\n",
       "      <td>2009</td>\n",
       "      <td>12</td>\n",
       "      <td>26</td>\n",
       "      <td>23</td>\n",
       "      <td>6</td>\n",
       "    </tr>\n",
       "    <tr>\n",
       "      <th>159</th>\n",
       "      <td>11010</td>\n",
       "      <td>2009-12-27 23:59:00</td>\n",
       "      <td>719.0</td>\n",
       "      <td>1635.0</td>\n",
       "      <td>2009</td>\n",
       "      <td>12</td>\n",
       "      <td>27</td>\n",
       "      <td>23</td>\n",
       "      <td>7</td>\n",
       "    </tr>\n",
       "  </tbody>\n",
       "</table>\n",
       "<p>160 rows × 9 columns</p>\n",
       "</div>"
      ],
      "text/plain": [
       "     index                DATE  Sunrise  Sunset  YEAR  MONTH  DAY  HOUR  WEEK\n",
       "0       55 2009-01-02 23:59:00    720.0  1640.0  2009      1    2    23     5\n",
       "1      163 2009-01-06 23:59:00    720.0  1644.0  2009      1    6    23     2\n",
       "2      202 2009-01-07 23:59:00    720.0  1645.0  2009      1    7    23     3\n",
       "3      305 2009-01-10 23:59:00    720.0  1648.0  2009      1   10    23     6\n",
       "4      343 2009-01-11 23:59:00    720.0  1649.0  2009      1   11    23     7\n",
       "..     ...                 ...      ...     ...   ...    ...  ...   ...   ...\n",
       "155  10755 2009-12-19 23:59:00    715.0  1630.0  2009     12   19    23     6\n",
       "156  10791 2009-12-20 23:59:00    716.0  1631.0  2009     12   20    23     7\n",
       "157  10919 2009-12-25 23:59:00    718.0  1634.0  2009     12   25    23     5\n",
       "158  10970 2009-12-26 23:59:00    719.0  1634.0  2009     12   26    23     6\n",
       "159  11010 2009-12-27 23:59:00    719.0  1635.0  2009     12   27    23     7\n",
       "\n",
       "[160 rows x 9 columns]"
      ]
     },
     "execution_count": 68,
     "metadata": {},
     "output_type": "execute_result"
    }
   ],
   "source": [
    "sun_weather = load_and_clean_weather_data()\n",
    "sun_weather"
   ]
  },
  {
   "cell_type": "code",
   "execution_count": 69,
   "id": "573c8612",
   "metadata": {},
   "outputs": [],
   "source": [
    "sun_weather.reset_index(inplace=True)\n",
    "sun_weather.drop(['index', 'level_0'], axis=1, inplace=True)"
   ]
  },
  {
   "cell_type": "code",
   "execution_count": 70,
   "id": "6ed68cc4",
   "metadata": {},
   "outputs": [],
   "source": [
    "SUN_WEATHER_SCHEMA = \"\"\"\n",
    "CREATE TABLE IF NOT EXISTS Sun_weather\n",
    "(\n",
    "    id INTEGER PRIMARY KEY,\n",
    "    DATE TIMESTAMP,\n",
    "    YEAR INTEGER,\n",
    "    MONTH INTEGER,\n",
    "    DAY INTEGER,\n",
    "    WEEK INTEGER,\n",
    "    HOUR INTEGER,\n",
    "    Sunrise FLOAT,\n",
    "    Sunset FLOAT\n",
    ");\n",
    "\"\"\"\n",
    "with open(DATABASE_SCHEMA_FILE, \"w\") as f:\n",
    "    f.write(SUN_WEATHER_SCHEMA)\n",
    "with engine.connect() as connection:\n",
    "    connection.execute(SUN_WEATHER_SCHEMA)\n",
    "    sun_weather.to_sql('Sun_weather', con=connection, if_exists='replace')"
   ]
  },
  {
   "cell_type": "markdown",
   "id": "96d978ed",
   "metadata": {},
   "source": [
    "## For every month in the year, what is the average sunrise time and average traveled distance of yellow taxi during that month\n",
    "Combine sql tables of yellow taxi and daily sunset/sunrise with query."
   ]
  },
  {
   "cell_type": "code",
   "execution_count": 71,
   "id": "9dcfb5c2",
   "metadata": {
    "scrolled": false
   },
   "outputs": [],
   "source": [
    "QUERY_EC = \"\"\"\n",
    "WITH trip AS (\n",
    "    SELECT MONTH , AVG(cal_distance) as average_distance\n",
    "    FROM taxi_trips\n",
    "    GROUP BY MONTH\n",
    ")\n",
    "SELECT trip.MONTH, CAST(AVG(CAST(Sun_weather.Sunrise/100 AS int)) AS int) as Sunrise_Hour, \n",
    "       trip.average_distance as Average_Distance_for_taix_trips\n",
    "FROM Sun_weather\n",
    "LEFT JOIN trip ON Sun_weather.MONTH=trip.MONTH\n",
    "GROUP BY trip.MONTH\n",
    "\"\"\""
   ]
  },
  {
   "cell_type": "code",
   "execution_count": 72,
   "id": "94936856",
   "metadata": {},
   "outputs": [
    {
     "data": {
      "text/html": [
       "<div>\n",
       "<style scoped>\n",
       "    .dataframe tbody tr th:only-of-type {\n",
       "        vertical-align: middle;\n",
       "    }\n",
       "\n",
       "    .dataframe tbody tr th {\n",
       "        vertical-align: top;\n",
       "    }\n",
       "\n",
       "    .dataframe thead th {\n",
       "        text-align: right;\n",
       "    }\n",
       "</style>\n",
       "<table border=\"1\" class=\"dataframe\">\n",
       "  <thead>\n",
       "    <tr style=\"text-align: right;\">\n",
       "      <th></th>\n",
       "      <th>MONTH</th>\n",
       "      <th>Sunrise_Hour</th>\n",
       "      <th>Average_Distance_for_taix_trips</th>\n",
       "    </tr>\n",
       "  </thead>\n",
       "  <tbody>\n",
       "    <tr>\n",
       "      <th>0</th>\n",
       "      <td>1</td>\n",
       "      <td>7</td>\n",
       "      <td>3.207630</td>\n",
       "    </tr>\n",
       "    <tr>\n",
       "      <th>1</th>\n",
       "      <td>2</td>\n",
       "      <td>6</td>\n",
       "      <td>3.177001</td>\n",
       "    </tr>\n",
       "    <tr>\n",
       "      <th>2</th>\n",
       "      <td>3</td>\n",
       "      <td>5</td>\n",
       "      <td>3.276767</td>\n",
       "    </tr>\n",
       "    <tr>\n",
       "      <th>3</th>\n",
       "      <td>4</td>\n",
       "      <td>4</td>\n",
       "      <td>3.635675</td>\n",
       "    </tr>\n",
       "    <tr>\n",
       "      <th>4</th>\n",
       "      <td>5</td>\n",
       "      <td>4</td>\n",
       "      <td>3.381115</td>\n",
       "    </tr>\n",
       "    <tr>\n",
       "      <th>5</th>\n",
       "      <td>6</td>\n",
       "      <td>4</td>\n",
       "      <td>3.454685</td>\n",
       "    </tr>\n",
       "    <tr>\n",
       "      <th>6</th>\n",
       "      <td>7</td>\n",
       "      <td>4</td>\n",
       "      <td>3.339002</td>\n",
       "    </tr>\n",
       "    <tr>\n",
       "      <th>7</th>\n",
       "      <td>8</td>\n",
       "      <td>4</td>\n",
       "      <td>3.795435</td>\n",
       "    </tr>\n",
       "    <tr>\n",
       "      <th>8</th>\n",
       "      <td>9</td>\n",
       "      <td>5</td>\n",
       "      <td>3.407229</td>\n",
       "    </tr>\n",
       "    <tr>\n",
       "      <th>9</th>\n",
       "      <td>10</td>\n",
       "      <td>5</td>\n",
       "      <td>3.346180</td>\n",
       "    </tr>\n",
       "    <tr>\n",
       "      <th>10</th>\n",
       "      <td>11</td>\n",
       "      <td>6</td>\n",
       "      <td>3.288994</td>\n",
       "    </tr>\n",
       "    <tr>\n",
       "      <th>11</th>\n",
       "      <td>12</td>\n",
       "      <td>7</td>\n",
       "      <td>3.711587</td>\n",
       "    </tr>\n",
       "  </tbody>\n",
       "</table>\n",
       "</div>"
      ],
      "text/plain": [
       "    MONTH  Sunrise_Hour  Average_Distance_for_taix_trips\n",
       "0       1             7                         3.207630\n",
       "1       2             6                         3.177001\n",
       "2       3             5                         3.276767\n",
       "3       4             4                         3.635675\n",
       "4       5             4                         3.381115\n",
       "5       6             4                         3.454685\n",
       "6       7             4                         3.339002\n",
       "7       8             4                         3.795435\n",
       "8       9             5                         3.407229\n",
       "9      10             5                         3.346180\n",
       "10     11             6                         3.288994\n",
       "11     12             7                         3.711587"
      ]
     },
     "execution_count": 72,
     "metadata": {},
     "output_type": "execute_result"
    }
   ],
   "source": [
    "pd.DataFrame(engine.execute(QUERY_EC).fetchall())"
   ]
  },
  {
   "cell_type": "code",
   "execution_count": 73,
   "id": "c3c51fe4",
   "metadata": {},
   "outputs": [],
   "source": [
    "write_query_to_file(QUERY_EC, \"Average sunrise hour and average taxi distance per month.sql\")"
   ]
  }
 ],
 "metadata": {
  "kernelspec": {
   "display_name": "Python 3 (ipykernel)",
   "language": "python",
   "name": "python3"
  },
  "language_info": {
   "codemirror_mode": {
    "name": "ipython",
    "version": 3
   },
   "file_extension": ".py",
   "mimetype": "text/x-python",
   "name": "python",
   "nbconvert_exporter": "python",
   "pygments_lexer": "ipython3",
   "version": "3.9.13"
  }
 },
 "nbformat": 4,
 "nbformat_minor": 5
}
